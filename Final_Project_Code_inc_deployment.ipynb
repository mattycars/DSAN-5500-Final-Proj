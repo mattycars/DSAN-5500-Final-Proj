{
  "nbformat": 4,
  "nbformat_minor": 0,
  "metadata": {
    "colab": {
      "provenance": []
    },
    "kernelspec": {
      "name": "python3",
      "display_name": "Python 3"
    },
    "language_info": {
      "name": "python"
    }
  },
  "cells": [
    {
      "cell_type": "code",
      "source": [
        "title: \"DSAN-5500 Final Project: Polygon.io API ETL Pipeline\"\n",
        "author: \"Matt Carswell, Jude Moukarzel, Alex Pattarini\"\n",
        "format:\n",
        "    html:\n",
        "        embed-resources: true"
      ],
      "metadata": {
        "id": "mXBEv4CqPV_s"
      },
      "execution_count": null,
      "outputs": []
    },
    {
      "cell_type": "markdown",
      "source": [
        "**STOCK MARKET ANALYSIS**  \n",
        "*By Alex Pattarini, Matt Carswell, Jude Moukarzel*"
      ],
      "metadata": {
        "id": "WKzZlHOc6MDl"
      }
    },
    {
      "cell_type": "markdown",
      "source": [
        "**Problem Outline**  \n",
        "\n",
        "\n",
        "*   **Inefficiency in Data Access and Processing:** Manually retrieving and processing daily stock data is time-consuming and prone to errors. This inefficiency affects the timeliness and reliability of financial analysis and trading strategies.\n",
        "*   **Difficulty in Tracking Progress and Ensuring Data Integrity**: Without a streamlined process, tracking the status of data retrieval and transformations across multiple stocks and markets is challenging. Ensuring the integrity and accuracy of financial data is crucial for making informed trading decisions.\n",
        "\n",
        "\n",
        "\n",
        "**Proposed Solution: Implementation of an ETL Pipeline**  \n",
        "An ETL (Extract, Transform, Load) pipeline can address these challenges by automating the data workflow, ensuring data integrity, and improving data accessibility and tracking.\n",
        "\n",
        "**Step 1: Extract**  \n",
        "Retrieve daily stock data of the top companies within each major indistry such as open price, close price, high, low, and number of transactions using Polygon.io.  \n",
        "Pydantic is used at this stage to validate the data schema as soon as data is extracted, ensuring the data types and required fields are correct and complete. This prevents errors early in the pipeline.  \n",
        "\n",
        "**Step 2: Transform**  \n",
        "Structure the data for analysis, creating a dataframe with all relevant values as well as engineering any new features needed for additional insights.\n",
        "\n",
        "**Step 3: Load**  \n",
        "Store and load the transformed and validated data in a structured JSON database for easy access and analysis.  \n",
        "Data integrity and schema adherence are maintained during the loading phase, with logs and errors managed through Prefect, which also tracks the ETL process for performance and error handling.    \n",
        "\n",
        "By leveraging this ETL pipeline, we can address the inefficiencies related to data management in stock market analysis, ensuring timely and accurate data processing with improved oversight and error handling.  "
      ],
      "metadata": {
        "id": "R2-oVO3VKn6k"
      }
    },
    {
      "cell_type": "markdown",
      "source": [
        "**Setting Up Prefect and Polygon**"
      ],
      "metadata": {
        "id": "z79fP6R96JPF"
      }
    },
    {
      "cell_type": "code",
      "source": [
        "from google.colab import drive\n",
        "drive.mount('/content/drive')"
      ],
      "metadata": {
        "id": "ipKfWvJOXbSO",
        "colab": {
          "base_uri": "https://localhost:8080/",
          "height": 0
        },
        "outputId": "7b5bcf74-f362-4aea-918b-359d8cb008d8"
      },
      "execution_count": 1,
      "outputs": [
        {
          "output_type": "stream",
          "name": "stdout",
          "text": [
            "Mounted at /content/drive\n"
          ]
        }
      ]
    },
    {
      "cell_type": "code",
      "execution_count": 2,
      "metadata": {
        "id": "8SuOQXp552pm"
      },
      "outputs": [],
      "source": [
        "from google.colab import userdata\n",
        "my_api_key = userdata.get('PREFECT_API_KEY')"
      ]
    },
    {
      "cell_type": "code",
      "source": [
        "%%capture\n",
        "!pip install prefect"
      ],
      "metadata": {
        "id": "YORQm8zf54k6"
      },
      "execution_count": 3,
      "outputs": []
    },
    {
      "cell_type": "code",
      "source": [
        "!prefect cloud login -k \"$my_api_key\" -w \"matt-carswell/default\""
      ],
      "metadata": {
        "id": "C-oqgvXV54na",
        "colab": {
          "base_uri": "https://localhost:8080/",
          "height": 0
        },
        "outputId": "44ea42c8-4e9c-46fa-9e40-8ce05c76f996"
      },
      "execution_count": 4,
      "outputs": [
        {
          "output_type": "stream",
          "name": "stdout",
          "text": [
            "\u001b[32mAuthenticated with Prefect Cloud! Using workspace 'matt-carswell/default'.\u001b[0m\n"
          ]
        }
      ]
    },
    {
      "cell_type": "code",
      "source": [
        "!pip install -U polygon-api-client"
      ],
      "metadata": {
        "id": "32QwJNbN7Q4D",
        "outputId": "b2e17e03-f396-45c6-c405-25c5861cb3f4",
        "colab": {
          "base_uri": "https://localhost:8080/",
          "height": 0
        }
      },
      "execution_count": 5,
      "outputs": [
        {
          "output_type": "stream",
          "name": "stdout",
          "text": [
            "Collecting polygon-api-client\n",
            "  Downloading polygon_api_client-1.13.7-py3-none-any.whl (40 kB)\n",
            "\u001b[2K     \u001b[90m━━━━━━━━━━━━━━━━━━━━━━━━━━━━━━━━━━━━━━━━\u001b[0m \u001b[32m40.4/40.4 kB\u001b[0m \u001b[31m304.1 kB/s\u001b[0m eta \u001b[36m0:00:00\u001b[0m\n",
            "\u001b[?25hRequirement already satisfied: certifi<2025.0.0,>=2022.5.18 in /usr/local/lib/python3.10/dist-packages (from polygon-api-client) (2024.2.2)\n",
            "Collecting urllib3<2.0.0,>=1.26.9 (from polygon-api-client)\n",
            "  Downloading urllib3-1.26.18-py2.py3-none-any.whl (143 kB)\n",
            "\u001b[2K     \u001b[90m━━━━━━━━━━━━━━━━━━━━━━━━━━━━━━━━━━━━━━━━\u001b[0m \u001b[32m143.8/143.8 kB\u001b[0m \u001b[31m3.3 MB/s\u001b[0m eta \u001b[36m0:00:00\u001b[0m\n",
            "\u001b[?25hRequirement already satisfied: websockets<13.0,>=10.3 in /usr/local/lib/python3.10/dist-packages (from polygon-api-client) (12.0)\n",
            "Installing collected packages: urllib3, polygon-api-client\n",
            "  Attempting uninstall: urllib3\n",
            "    Found existing installation: urllib3 2.0.7\n",
            "    Uninstalling urllib3-2.0.7:\n",
            "      Successfully uninstalled urllib3-2.0.7\n",
            "\u001b[31mERROR: pip's dependency resolver does not currently take into account all the packages that are installed. This behaviour is the source of the following dependency conflicts.\n",
            "spacy 3.7.4 requires typer<0.10.0,>=0.3.0, but you have typer 0.12.3 which is incompatible.\n",
            "weasel 0.3.4 requires typer<0.10.0,>=0.3.0, but you have typer 0.12.3 which is incompatible.\u001b[0m\u001b[31m\n",
            "\u001b[0mSuccessfully installed polygon-api-client-1.13.7 urllib3-1.26.18\n"
          ]
        }
      ]
    },
    {
      "cell_type": "code",
      "source": [
        "from polygon import RESTClient\n",
        "client = RESTClient(api_key=\"T0QpOfpp3phUHlnzbXCbzP2r0Z6Hvsj2\")"
      ],
      "metadata": {
        "id": "F_nJ4Cuu54rz"
      },
      "execution_count": 6,
      "outputs": []
    },
    {
      "cell_type": "markdown",
      "source": [
        "## Individual Stocks"
      ],
      "metadata": {
        "id": "d0Hy63C-OEEW"
      }
    },
    {
      "cell_type": "markdown",
      "source": [
        "**Creating a List of Stock Tickers**"
      ],
      "metadata": {
        "id": "QzW-4AlbNLCZ"
      }
    },
    {
      "cell_type": "code",
      "source": [
        "import pandas as pd\n",
        "data = {\n",
        "    'Ticker': [\n",
        "        \"AAPL\", \"MSFT\", \"GOOG\", \"META\", \"INTC\", \"NVDA\", \"AMD\", \"ORCL\", \"IBM\", \"QCOM\",\n",
        "        \"JNJ\", \"PFE\", \"UNH\", \"MRK\", \"ABT\", \"ABBV\", \"AMGN\", \"TMO\", \"GILD\", \"BMY\",\n",
        "        \"JPM\", \"BAC\", \"WFC\", \"C\", \"GS\", \"MS\", \"AXP\", \"BLK\", \"TFC\", \"SPGI\",\n",
        "        \"XOM\", \"CVX\", \"COP\", \"SLB\", \"EOG\", \"PSX\", \"VLO\", \"KMI\", \"WMB\",\n",
        "        \"PG\", \"KO\", \"PEP\", \"NKE\", \"MO\", \"EL\", \"PM\", \"CL\", \"KMB\", \"GIS\",\n",
        "        \"AMZN\", \"WMT\", \"HD\", \"COST\", \"TGT\", \"LOW\", \"DG\", \"SBUX\", \"CVS\", \"WBA\",\n",
        "        \"TSLA\", \"GM\", \"F\", \"TM\", \"HMC\", \"RACE\", \"NSANY\", \"HYMTF\",\n",
        "        \"XOM\", \"CVX\", \"BP\"\n",
        "    ]}\n",
        "# Create the DataFrame\n",
        "df = pd.DataFrame(data)\n",
        "\n",
        "# Print the DataFrame\n",
        "df.head()"
      ],
      "metadata": {
        "colab": {
          "base_uri": "https://localhost:8080/",
          "height": 206
        },
        "id": "cj5qF7sZUFMk",
        "outputId": "fcda3d78-7f2b-4cc6-c55e-e4cc62731c02"
      },
      "execution_count": 34,
      "outputs": [
        {
          "output_type": "execute_result",
          "data": {
            "text/plain": [
              "  Ticker\n",
              "0   AAPL\n",
              "1   MSFT\n",
              "2   GOOG\n",
              "3   META\n",
              "4   INTC"
            ],
            "text/html": [
              "\n",
              "  <div id=\"df-a497af91-09b4-439d-a326-c3723e930a5f\" class=\"colab-df-container\">\n",
              "    <div>\n",
              "<style scoped>\n",
              "    .dataframe tbody tr th:only-of-type {\n",
              "        vertical-align: middle;\n",
              "    }\n",
              "\n",
              "    .dataframe tbody tr th {\n",
              "        vertical-align: top;\n",
              "    }\n",
              "\n",
              "    .dataframe thead th {\n",
              "        text-align: right;\n",
              "    }\n",
              "</style>\n",
              "<table border=\"1\" class=\"dataframe\">\n",
              "  <thead>\n",
              "    <tr style=\"text-align: right;\">\n",
              "      <th></th>\n",
              "      <th>Ticker</th>\n",
              "    </tr>\n",
              "  </thead>\n",
              "  <tbody>\n",
              "    <tr>\n",
              "      <th>0</th>\n",
              "      <td>AAPL</td>\n",
              "    </tr>\n",
              "    <tr>\n",
              "      <th>1</th>\n",
              "      <td>MSFT</td>\n",
              "    </tr>\n",
              "    <tr>\n",
              "      <th>2</th>\n",
              "      <td>GOOG</td>\n",
              "    </tr>\n",
              "    <tr>\n",
              "      <th>3</th>\n",
              "      <td>META</td>\n",
              "    </tr>\n",
              "    <tr>\n",
              "      <th>4</th>\n",
              "      <td>INTC</td>\n",
              "    </tr>\n",
              "  </tbody>\n",
              "</table>\n",
              "</div>\n",
              "    <div class=\"colab-df-buttons\">\n",
              "\n",
              "  <div class=\"colab-df-container\">\n",
              "    <button class=\"colab-df-convert\" onclick=\"convertToInteractive('df-a497af91-09b4-439d-a326-c3723e930a5f')\"\n",
              "            title=\"Convert this dataframe to an interactive table.\"\n",
              "            style=\"display:none;\">\n",
              "\n",
              "  <svg xmlns=\"http://www.w3.org/2000/svg\" height=\"24px\" viewBox=\"0 -960 960 960\">\n",
              "    <path d=\"M120-120v-720h720v720H120Zm60-500h600v-160H180v160Zm220 220h160v-160H400v160Zm0 220h160v-160H400v160ZM180-400h160v-160H180v160Zm440 0h160v-160H620v160ZM180-180h160v-160H180v160Zm440 0h160v-160H620v160Z\"/>\n",
              "  </svg>\n",
              "    </button>\n",
              "\n",
              "  <style>\n",
              "    .colab-df-container {\n",
              "      display:flex;\n",
              "      gap: 12px;\n",
              "    }\n",
              "\n",
              "    .colab-df-convert {\n",
              "      background-color: #E8F0FE;\n",
              "      border: none;\n",
              "      border-radius: 50%;\n",
              "      cursor: pointer;\n",
              "      display: none;\n",
              "      fill: #1967D2;\n",
              "      height: 32px;\n",
              "      padding: 0 0 0 0;\n",
              "      width: 32px;\n",
              "    }\n",
              "\n",
              "    .colab-df-convert:hover {\n",
              "      background-color: #E2EBFA;\n",
              "      box-shadow: 0px 1px 2px rgba(60, 64, 67, 0.3), 0px 1px 3px 1px rgba(60, 64, 67, 0.15);\n",
              "      fill: #174EA6;\n",
              "    }\n",
              "\n",
              "    .colab-df-buttons div {\n",
              "      margin-bottom: 4px;\n",
              "    }\n",
              "\n",
              "    [theme=dark] .colab-df-convert {\n",
              "      background-color: #3B4455;\n",
              "      fill: #D2E3FC;\n",
              "    }\n",
              "\n",
              "    [theme=dark] .colab-df-convert:hover {\n",
              "      background-color: #434B5C;\n",
              "      box-shadow: 0px 1px 3px 1px rgba(0, 0, 0, 0.15);\n",
              "      filter: drop-shadow(0px 1px 2px rgba(0, 0, 0, 0.3));\n",
              "      fill: #FFFFFF;\n",
              "    }\n",
              "  </style>\n",
              "\n",
              "    <script>\n",
              "      const buttonEl =\n",
              "        document.querySelector('#df-a497af91-09b4-439d-a326-c3723e930a5f button.colab-df-convert');\n",
              "      buttonEl.style.display =\n",
              "        google.colab.kernel.accessAllowed ? 'block' : 'none';\n",
              "\n",
              "      async function convertToInteractive(key) {\n",
              "        const element = document.querySelector('#df-a497af91-09b4-439d-a326-c3723e930a5f');\n",
              "        const dataTable =\n",
              "          await google.colab.kernel.invokeFunction('convertToInteractive',\n",
              "                                                    [key], {});\n",
              "        if (!dataTable) return;\n",
              "\n",
              "        const docLinkHtml = 'Like what you see? Visit the ' +\n",
              "          '<a target=\"_blank\" href=https://colab.research.google.com/notebooks/data_table.ipynb>data table notebook</a>'\n",
              "          + ' to learn more about interactive tables.';\n",
              "        element.innerHTML = '';\n",
              "        dataTable['output_type'] = 'display_data';\n",
              "        await google.colab.output.renderOutput(dataTable, element);\n",
              "        const docLink = document.createElement('div');\n",
              "        docLink.innerHTML = docLinkHtml;\n",
              "        element.appendChild(docLink);\n",
              "      }\n",
              "    </script>\n",
              "  </div>\n",
              "\n",
              "\n",
              "<div id=\"df-190ea20c-fa3d-4f3f-88ff-321b2053c733\">\n",
              "  <button class=\"colab-df-quickchart\" onclick=\"quickchart('df-190ea20c-fa3d-4f3f-88ff-321b2053c733')\"\n",
              "            title=\"Suggest charts\"\n",
              "            style=\"display:none;\">\n",
              "\n",
              "<svg xmlns=\"http://www.w3.org/2000/svg\" height=\"24px\"viewBox=\"0 0 24 24\"\n",
              "     width=\"24px\">\n",
              "    <g>\n",
              "        <path d=\"M19 3H5c-1.1 0-2 .9-2 2v14c0 1.1.9 2 2 2h14c1.1 0 2-.9 2-2V5c0-1.1-.9-2-2-2zM9 17H7v-7h2v7zm4 0h-2V7h2v10zm4 0h-2v-4h2v4z\"/>\n",
              "    </g>\n",
              "</svg>\n",
              "  </button>\n",
              "\n",
              "<style>\n",
              "  .colab-df-quickchart {\n",
              "      --bg-color: #E8F0FE;\n",
              "      --fill-color: #1967D2;\n",
              "      --hover-bg-color: #E2EBFA;\n",
              "      --hover-fill-color: #174EA6;\n",
              "      --disabled-fill-color: #AAA;\n",
              "      --disabled-bg-color: #DDD;\n",
              "  }\n",
              "\n",
              "  [theme=dark] .colab-df-quickchart {\n",
              "      --bg-color: #3B4455;\n",
              "      --fill-color: #D2E3FC;\n",
              "      --hover-bg-color: #434B5C;\n",
              "      --hover-fill-color: #FFFFFF;\n",
              "      --disabled-bg-color: #3B4455;\n",
              "      --disabled-fill-color: #666;\n",
              "  }\n",
              "\n",
              "  .colab-df-quickchart {\n",
              "    background-color: var(--bg-color);\n",
              "    border: none;\n",
              "    border-radius: 50%;\n",
              "    cursor: pointer;\n",
              "    display: none;\n",
              "    fill: var(--fill-color);\n",
              "    height: 32px;\n",
              "    padding: 0;\n",
              "    width: 32px;\n",
              "  }\n",
              "\n",
              "  .colab-df-quickchart:hover {\n",
              "    background-color: var(--hover-bg-color);\n",
              "    box-shadow: 0 1px 2px rgba(60, 64, 67, 0.3), 0 1px 3px 1px rgba(60, 64, 67, 0.15);\n",
              "    fill: var(--button-hover-fill-color);\n",
              "  }\n",
              "\n",
              "  .colab-df-quickchart-complete:disabled,\n",
              "  .colab-df-quickchart-complete:disabled:hover {\n",
              "    background-color: var(--disabled-bg-color);\n",
              "    fill: var(--disabled-fill-color);\n",
              "    box-shadow: none;\n",
              "  }\n",
              "\n",
              "  .colab-df-spinner {\n",
              "    border: 2px solid var(--fill-color);\n",
              "    border-color: transparent;\n",
              "    border-bottom-color: var(--fill-color);\n",
              "    animation:\n",
              "      spin 1s steps(1) infinite;\n",
              "  }\n",
              "\n",
              "  @keyframes spin {\n",
              "    0% {\n",
              "      border-color: transparent;\n",
              "      border-bottom-color: var(--fill-color);\n",
              "      border-left-color: var(--fill-color);\n",
              "    }\n",
              "    20% {\n",
              "      border-color: transparent;\n",
              "      border-left-color: var(--fill-color);\n",
              "      border-top-color: var(--fill-color);\n",
              "    }\n",
              "    30% {\n",
              "      border-color: transparent;\n",
              "      border-left-color: var(--fill-color);\n",
              "      border-top-color: var(--fill-color);\n",
              "      border-right-color: var(--fill-color);\n",
              "    }\n",
              "    40% {\n",
              "      border-color: transparent;\n",
              "      border-right-color: var(--fill-color);\n",
              "      border-top-color: var(--fill-color);\n",
              "    }\n",
              "    60% {\n",
              "      border-color: transparent;\n",
              "      border-right-color: var(--fill-color);\n",
              "    }\n",
              "    80% {\n",
              "      border-color: transparent;\n",
              "      border-right-color: var(--fill-color);\n",
              "      border-bottom-color: var(--fill-color);\n",
              "    }\n",
              "    90% {\n",
              "      border-color: transparent;\n",
              "      border-bottom-color: var(--fill-color);\n",
              "    }\n",
              "  }\n",
              "</style>\n",
              "\n",
              "  <script>\n",
              "    async function quickchart(key) {\n",
              "      const quickchartButtonEl =\n",
              "        document.querySelector('#' + key + ' button');\n",
              "      quickchartButtonEl.disabled = true;  // To prevent multiple clicks.\n",
              "      quickchartButtonEl.classList.add('colab-df-spinner');\n",
              "      try {\n",
              "        const charts = await google.colab.kernel.invokeFunction(\n",
              "            'suggestCharts', [key], {});\n",
              "      } catch (error) {\n",
              "        console.error('Error during call to suggestCharts:', error);\n",
              "      }\n",
              "      quickchartButtonEl.classList.remove('colab-df-spinner');\n",
              "      quickchartButtonEl.classList.add('colab-df-quickchart-complete');\n",
              "    }\n",
              "    (() => {\n",
              "      let quickchartButtonEl =\n",
              "        document.querySelector('#df-190ea20c-fa3d-4f3f-88ff-321b2053c733 button');\n",
              "      quickchartButtonEl.style.display =\n",
              "        google.colab.kernel.accessAllowed ? 'block' : 'none';\n",
              "    })();\n",
              "  </script>\n",
              "</div>\n",
              "    </div>\n",
              "  </div>\n"
            ],
            "application/vnd.google.colaboratory.intrinsic+json": {
              "type": "dataframe",
              "variable_name": "df",
              "summary": "{\n  \"name\": \"df\",\n  \"rows\": 70,\n  \"fields\": [\n    {\n      \"column\": \"Ticker\",\n      \"properties\": {\n        \"dtype\": \"string\",\n        \"num_unique_values\": 68,\n        \"samples\": [\n          \"CL\",\n          \"AMGN\",\n          \"INTC\"\n        ],\n        \"semantic_type\": \"\",\n        \"description\": \"\"\n      }\n    }\n  ]\n}"
            }
          },
          "metadata": {},
          "execution_count": 34
        }
      ]
    },
    {
      "cell_type": "markdown",
      "source": [
        "**Creating our first ETL pipeline for Individual Stock Price Performance**"
      ],
      "metadata": {
        "id": "ONa5RRAiNU2M"
      }
    },
    {
      "cell_type": "code",
      "source": [
        "%%writefile stock_scraper.py\n",
        "from collections import Counter\n",
        "from pprint import pprint\n",
        "from typing import List\n",
        "from prefect.artifacts import create_markdown_artifact\n",
        "import matplotlib.pyplot as plt\n",
        "from bs4 import BeautifulSoup\n",
        "from prefect import flow, task\n",
        "from pydantic import BaseModel, field_validator, HttpUrl\n",
        "from pydantic import BaseModel, FilePath, HttpUrl, NonNegativeInt\n",
        "import requests\n",
        "import time\n",
        "from datetime import datetime, timedelta\n",
        "\n",
        "from polygon import RESTClient\n",
        "client = RESTClient(api_key=\"T0QpOfpp3phUHlnzbXCbzP2r0Z6Hvsj2\")\n",
        "\n",
        "from google.colab import userdata\n",
        "my_api_key = userdata.get('PREFECT_API_KEY')\n",
        "\n",
        "class Stock(BaseModel):\n",
        "  ticker: str\n",
        "  open: float\n",
        "  close: float\n",
        "  high: float\n",
        "  low: float\n",
        "  volume: float\n",
        "  transactions: float\n",
        "\n",
        "\n",
        "  @field_validator('ticker')\n",
        "  @classmethod\n",
        "  def ticker_must_be_alphabetical(cls, value):\n",
        "      if not value.isalpha():\n",
        "          raise ValueError(f'Ticker must be alphabetical, got {value}')\n",
        "      return value\n",
        "\n",
        "  @field_validator('open', 'close', 'high', 'low', 'volume', 'transactions')\n",
        "  @classmethod\n",
        "  def must_be_nonnegative(cls, value):\n",
        "      if value < 0:\n",
        "          raise ValueError(\"Financial figures must be non-negative.\")\n",
        "      return value\n",
        "\n",
        "\n",
        "@task\n",
        "def fetch_aggregates(ticker,from_date,to_date):\n",
        "    # First off, we request fetch the actual prices of each ticker\n",
        "    aggs = []\n",
        "\n",
        "\n",
        "    for a in client.list_aggs(ticker=ticker, multiplier=1, timespan=\"day\", from_=from_date, to=to_date, limit=50000):\n",
        "      aggs.append(a)\n",
        "\n",
        "    # Store prices in class object\n",
        "    stock_open = aggs[0].open\n",
        "    stock_close = aggs[0].close\n",
        "    stock_high = aggs[0].high\n",
        "    stock_low = aggs[0].low\n",
        "    stock_volume = aggs[0].volume\n",
        "    stock_transactions = aggs[0].transactions\n",
        "\n",
        "  # Finally, we build our Quote object\n",
        "    stock_info = Stock(\n",
        "        ticker=ticker,\n",
        "        open=stock_open,\n",
        "        close=stock_close,\n",
        "        high=stock_high,\n",
        "        low = stock_low,\n",
        "        volume = stock_volume,\n",
        "        transactions = stock_transactions\n",
        "    )\n",
        "    return stock_info\n",
        "\n",
        "\n",
        "\n",
        "@task\n",
        "def load_stock_into_db(\n",
        "    stock_obj: Stock,\n",
        "    db_fpath: FilePath\n",
        ") -> None:\n",
        "    stock_json = stock_obj.json() # using the .json method from Pydantic to serialize the Quote object to JSON\n",
        "\n",
        "    # append the JSON string to the file\n",
        "    with open(db_fpath, 'a') as file:\n",
        "        file.write(stock_json + '\\n')\n",
        "\n",
        "\n",
        "@flow\n",
        "def scrape_ticker(ticker, from_date, to_date, db_filename: str = \"extracted_stocks.jsonl\"):\n",
        "    extracted_aggs = fetch_aggregates(ticker, from_date, to_date)\n",
        "    db_result = load_stock_into_db(extracted_aggs, db_filename)\n",
        "    return extracted_aggs\n",
        "\n",
        "def define_date_range():\n",
        "    today = datetime.today()\n",
        "    from_date = (today - timedelta(days=1)).strftime('%Y-%m-%d')\n",
        "    to_date = today.strftime('%Y-%m-%d')\n",
        "    return from_date, to_date\n",
        "\n",
        "# Loop over a list of tickers\n",
        "today = datetime.today()\n",
        "from_date = (today - timedelta(days=1)).strftime('%Y-%m-%d')\n",
        "to_date = today.strftime('%Y-%m-%d')\n",
        "for ticker in df['Ticker']:\n",
        "    from_date, to_date = define_date_range()\n",
        "    scrape_ticker(ticker=ticker, from_date=from_date, to_date=to_date)\n",
        "\n",
        "if __name__ == \"__main__\":\n",
        "    scrape_index.serve(name=\"report-deployment\",\n",
        "                          tags=[\"onboarding\"],\n",
        "                          parameters={},\n",
        "                          interval=86400)  # Set interval to 86400 seconds (24 hours)"
      ],
      "metadata": {
        "id": "3qvj_lOmPGxW"
      },
      "execution_count": null,
      "outputs": []
    },
    {
      "cell_type": "markdown",
      "source": [
        "**Creating a new ETL for Market Indices performance**  \n",
        "Slight caveat: Our API is limited in which indicies can be pulled without a very expensive plan so these are all ETFs which are still extremely indicative of the indicies themselves.)"
      ],
      "metadata": {
        "id": "pPNI9ywOOIJt"
      }
    },
    {
      "cell_type": "code",
      "source": [
        "indicies = {\n",
        "    \"index_name\" : [\n",
        "    \"VTI\",\"SPY\",\"DIA\",\"QQQ\",\"USO\",\"GLD\",\"USRT\",\"VDE\",\"XHE\",\"SOXQ\",\"XLK\"\n",
        "    ]}"
      ],
      "metadata": {
        "id": "ceBgyzHeONlb"
      },
      "execution_count": 37,
      "outputs": []
    },
    {
      "cell_type": "code",
      "source": [
        "%%writefile index_scraper.py\n",
        "from collections import Counter\n",
        "from pprint import pprint\n",
        "from typing import List\n",
        "from prefect.artifacts import create_markdown_artifact\n",
        "import matplotlib.pyplot as plt\n",
        "from bs4 import BeautifulSoup\n",
        "from prefect import flow, task\n",
        "from pydantic import BaseModel, field_validator, HttpUrl\n",
        "from pydantic import BaseModel, FilePath, HttpUrl, NonNegativeInt\n",
        "import requests\n",
        "import time\n",
        "from datetime import datetime, timedelta\n",
        "\n",
        "from polygon import RESTClient\n",
        "client = RESTClient(api_key=\"T0QpOfpp3phUHlnzbXCbzP2r0Z6Hvsj2\")\n",
        "\n",
        "from google.colab import userdata\n",
        "my_api_key = userdata.get('PREFECT_API_KEY')\n",
        "\n",
        "\n",
        "indicies = {\n",
        "    \"index_name\" : [\n",
        "    \"VTI\",\"SPY\",\"DIA\",\"QQQ\",\"USO\",\"GLD\",\"USRT\",\"VDE\",\"XHE\",\"SOXQ\",\"XLK\"\n",
        "    ]}\n",
        "\n",
        "\n",
        "class Index(BaseModel):\n",
        "  ticker: str\n",
        "  open: float\n",
        "  close: float\n",
        "  high: float\n",
        "  low: float\n",
        "  volume: float\n",
        "  transactions: float\n",
        "\n",
        "@task\n",
        "def fetch_index_aggregates(index_name: str,from_date,to_date):\n",
        "    idx_aggs = []\n",
        "\n",
        "    #######Generalize the dates and include timestamp in Stock object##################\n",
        "    for a in client.list_aggs(ticker=index_name, multiplier=1, timespan=\"day\", from_=from_date, to=to_date, limit=50000):\n",
        "      idx_aggs.append(a)\n",
        "\n",
        "    # Store prices in class object\n",
        "    idx_open = idx_aggs[0].open\n",
        "    idx_close = idx_aggs[0].close\n",
        "    idx_high = idx_aggs[0].high\n",
        "    idx_low = idx_aggs[0].low\n",
        "    idx_volume = idx_aggs[0].volume\n",
        "    idx_transactions = idx_aggs[0].transactions\n",
        "\n",
        "    # Create an Index object\n",
        "    index_info = Index(\n",
        "        ticker=index_name,\n",
        "        open=idx_open,\n",
        "        close=idx_close,\n",
        "        high=idx_high,\n",
        "        low=idx_low,\n",
        "        volume=idx_volume,\n",
        "        transactions = idx_transactions\n",
        "    )\n",
        "    return index_info\n",
        "\n",
        "# Task to load index data into the database\n",
        "@task\n",
        "def load_index_into_db(\n",
        "    index_obj: Index,\n",
        "    db_fpath: FilePath\n",
        ") -> None:\n",
        "    index_json = index_obj.json()  # Serialize the Index object to JSON\n",
        "\n",
        "    # Append the JSON string to the file\n",
        "    with open(db_fpath, 'a') as file:\n",
        "        file.write(index_json + '\\n')\n",
        "\n",
        "@flow\n",
        "def scrape_index(index_name, from_date,to_date,db_filename: str = \"extracted_indices.jsonl\"):\n",
        "    extracted_aggs = fetch_index_aggregates(index_name,from_date,to_date)\n",
        "    db_result = load_index_into_db(extracted_aggs, db_filename)\n",
        "    return extracted_aggs\n",
        "\n",
        "def define_date_range():\n",
        "    today = datetime.today()\n",
        "    from_date = (today - timedelta(days=1)).strftime('%Y-%m-%d')\n",
        "    to_date = today.strftime('%Y-%m-%d')\n",
        "    return from_date, to_date\n",
        "\n",
        "# Loop over a list of index names\n",
        "today = datetime.today()\n",
        "from_date = (today - timedelta(days=1)).strftime('%Y-%m-%d')\n",
        "to_date = today.strftime('%Y-%m-%d')\n",
        "for index_name in indicies['index_name']:\n",
        "    scrape_index(index_name=index_name,from_date=from_date,to_date=to_date)\n",
        "\n",
        "if __name__ == \"__main__\":\n",
        "    scrape_index.serve(name=\"report-deployment\",\n",
        "                          tags=[\"onboarding\"],\n",
        "                          parameters={},\n",
        "                          interval=86400)  # Set interval to 86400 seconds (24 hours)"
      ],
      "metadata": {
        "id": "xRm4xeSWPOED",
        "colab": {
          "base_uri": "https://localhost:8080/"
        },
        "outputId": "721021de-03fa-41fc-b806-f9e9f269e164"
      },
      "execution_count": 80,
      "outputs": [
        {
          "output_type": "stream",
          "name": "stdout",
          "text": [
            "Overwriting index_scraper.py\n"
          ]
        }
      ]
    },
    {
      "cell_type": "code",
      "source": [
        "%run index_scraper.py"
      ],
      "metadata": {
        "colab": {
          "base_uri": "https://localhost:8080/",
          "height": 1000
        },
        "id": "hHdxh_Yjjt9m",
        "outputId": "11ea57f9-e2eb-4b83-8431-f81506e80ce8"
      },
      "execution_count": 81,
      "outputs": [
        {
          "output_type": "display_data",
          "data": {
            "text/plain": [
              "21:15:48.639 | \u001b[36mINFO\u001b[0m    | prefect.engine - Created flow run\u001b[35m 'bold-tapir'\u001b[0m for flow\u001b[1;35m 'scrape-index'\u001b[0m\n"
            ],
            "text/html": [
              "<pre style=\"white-space:pre;overflow-x:auto;line-height:normal;font-family:Menlo,'DejaVu Sans Mono',consolas,'Courier New',monospace\">21:15:48.639 | <span style=\"color: #008080; text-decoration-color: #008080\">INFO</span>    | prefect.engine - Created flow run<span style=\"color: #800080; text-decoration-color: #800080\"> 'bold-tapir'</span> for flow<span style=\"color: #800080; text-decoration-color: #800080; font-weight: bold\"> 'scrape-index'</span>\n",
              "</pre>\n"
            ]
          },
          "metadata": {}
        },
        {
          "output_type": "display_data",
          "data": {
            "text/plain": [
              "21:15:48.642 | \u001b[36mINFO\u001b[0m    | Flow run\u001b[35m 'bold-tapir'\u001b[0m - View at \u001b[94mhttps://app.prefect.cloud/account/653e4ddd-190d-458f-8d15-a805d74582fd/workspace/0fcb490f-3873-41a3-bf9b-272ee4f0d89b/flow-runs/flow-run/7bbf6153-09ec-4602-b82b-9d3e0ff7b2b8\u001b[0m\n"
            ],
            "text/html": [
              "<pre style=\"white-space:pre;overflow-x:auto;line-height:normal;font-family:Menlo,'DejaVu Sans Mono',consolas,'Courier New',monospace\">21:15:48.642 | <span style=\"color: #008080; text-decoration-color: #008080\">INFO</span>    | Flow run<span style=\"color: #800080; text-decoration-color: #800080\"> 'bold-tapir'</span> - View at <span style=\"color: #0000ff; text-decoration-color: #0000ff\">https://app.prefect.cloud/account/653e4ddd-190d-458f-8d15-a805d74582fd/workspace/0fcb490f-3873-41a3-bf9b-272ee4f0d89b/flow-runs/flow-run/7bbf6153-09ec-4602-b82b-9d3e0ff7b2b8</span>\n",
              "</pre>\n"
            ]
          },
          "metadata": {}
        },
        {
          "output_type": "display_data",
          "data": {
            "text/plain": [
              "21:15:48.805 | \u001b[36mINFO\u001b[0m    | Flow run\u001b[35m 'bold-tapir'\u001b[0m - Created task run 'fetch_index_aggregates-0' for task 'fetch_index_aggregates'\n"
            ],
            "text/html": [
              "<pre style=\"white-space:pre;overflow-x:auto;line-height:normal;font-family:Menlo,'DejaVu Sans Mono',consolas,'Courier New',monospace\">21:15:48.805 | <span style=\"color: #008080; text-decoration-color: #008080\">INFO</span>    | Flow run<span style=\"color: #800080; text-decoration-color: #800080\"> 'bold-tapir'</span> - Created task run 'fetch_index_aggregates-0' for task 'fetch_index_aggregates'\n",
              "</pre>\n"
            ]
          },
          "metadata": {}
        },
        {
          "output_type": "display_data",
          "data": {
            "text/plain": [
              "21:15:48.809 | \u001b[36mINFO\u001b[0m    | Flow run\u001b[35m 'bold-tapir'\u001b[0m - Executing 'fetch_index_aggregates-0' immediately...\n"
            ],
            "text/html": [
              "<pre style=\"white-space:pre;overflow-x:auto;line-height:normal;font-family:Menlo,'DejaVu Sans Mono',consolas,'Courier New',monospace\">21:15:48.809 | <span style=\"color: #008080; text-decoration-color: #008080\">INFO</span>    | Flow run<span style=\"color: #800080; text-decoration-color: #800080\"> 'bold-tapir'</span> - Executing 'fetch_index_aggregates-0' immediately...\n",
              "</pre>\n"
            ]
          },
          "metadata": {}
        },
        {
          "output_type": "display_data",
          "data": {
            "text/plain": [
              "21:15:49.223 | \u001b[36mINFO\u001b[0m    | Task run 'fetch_index_aggregates-0' - Finished in state \u001b[32mCompleted\u001b[0m()\n"
            ],
            "text/html": [
              "<pre style=\"white-space:pre;overflow-x:auto;line-height:normal;font-family:Menlo,'DejaVu Sans Mono',consolas,'Courier New',monospace\">21:15:49.223 | <span style=\"color: #008080; text-decoration-color: #008080\">INFO</span>    | Task run 'fetch_index_aggregates-0' - Finished in state <span style=\"color: #008000; text-decoration-color: #008000\">Completed</span>()\n",
              "</pre>\n"
            ]
          },
          "metadata": {}
        },
        {
          "output_type": "display_data",
          "data": {
            "text/plain": [
              "21:15:49.371 | \u001b[36mINFO\u001b[0m    | Flow run\u001b[35m 'bold-tapir'\u001b[0m - Created task run 'load_index_into_db-0' for task 'load_index_into_db'\n"
            ],
            "text/html": [
              "<pre style=\"white-space:pre;overflow-x:auto;line-height:normal;font-family:Menlo,'DejaVu Sans Mono',consolas,'Courier New',monospace\">21:15:49.371 | <span style=\"color: #008080; text-decoration-color: #008080\">INFO</span>    | Flow run<span style=\"color: #800080; text-decoration-color: #800080\"> 'bold-tapir'</span> - Created task run 'load_index_into_db-0' for task 'load_index_into_db'\n",
              "</pre>\n"
            ]
          },
          "metadata": {}
        },
        {
          "output_type": "display_data",
          "data": {
            "text/plain": [
              "21:15:49.374 | \u001b[36mINFO\u001b[0m    | Flow run\u001b[35m 'bold-tapir'\u001b[0m - Executing 'load_index_into_db-0' immediately...\n"
            ],
            "text/html": [
              "<pre style=\"white-space:pre;overflow-x:auto;line-height:normal;font-family:Menlo,'DejaVu Sans Mono',consolas,'Courier New',monospace\">21:15:49.374 | <span style=\"color: #008080; text-decoration-color: #008080\">INFO</span>    | Flow run<span style=\"color: #800080; text-decoration-color: #800080\"> 'bold-tapir'</span> - Executing 'load_index_into_db-0' immediately...\n",
              "</pre>\n"
            ]
          },
          "metadata": {}
        },
        {
          "output_type": "display_data",
          "data": {
            "text/plain": [
              "21:15:49.706 | \u001b[36mINFO\u001b[0m    | Task run 'load_index_into_db-0' - Finished in state \u001b[32mCompleted\u001b[0m()\n"
            ],
            "text/html": [
              "<pre style=\"white-space:pre;overflow-x:auto;line-height:normal;font-family:Menlo,'DejaVu Sans Mono',consolas,'Courier New',monospace\">21:15:49.706 | <span style=\"color: #008080; text-decoration-color: #008080\">INFO</span>    | Task run 'load_index_into_db-0' - Finished in state <span style=\"color: #008000; text-decoration-color: #008000\">Completed</span>()\n",
              "</pre>\n"
            ]
          },
          "metadata": {}
        },
        {
          "output_type": "display_data",
          "data": {
            "text/plain": [
              "21:15:49.853 | \u001b[36mINFO\u001b[0m    | Flow run\u001b[35m 'bold-tapir'\u001b[0m - Finished in state \u001b[32mCompleted\u001b[0m()\n"
            ],
            "text/html": [
              "<pre style=\"white-space:pre;overflow-x:auto;line-height:normal;font-family:Menlo,'DejaVu Sans Mono',consolas,'Courier New',monospace\">21:15:49.853 | <span style=\"color: #008080; text-decoration-color: #008080\">INFO</span>    | Flow run<span style=\"color: #800080; text-decoration-color: #800080\"> 'bold-tapir'</span> - Finished in state <span style=\"color: #008000; text-decoration-color: #008000\">Completed</span>()\n",
              "</pre>\n"
            ]
          },
          "metadata": {}
        },
        {
          "output_type": "display_data",
          "data": {
            "text/plain": [
              "21:15:52.185 | \u001b[36mINFO\u001b[0m    | prefect.engine - Created flow run\u001b[35m 'wondrous-chowchow'\u001b[0m for flow\u001b[1;35m 'scrape-index'\u001b[0m\n"
            ],
            "text/html": [
              "<pre style=\"white-space:pre;overflow-x:auto;line-height:normal;font-family:Menlo,'DejaVu Sans Mono',consolas,'Courier New',monospace\">21:15:52.185 | <span style=\"color: #008080; text-decoration-color: #008080\">INFO</span>    | prefect.engine - Created flow run<span style=\"color: #800080; text-decoration-color: #800080\"> 'wondrous-chowchow'</span> for flow<span style=\"color: #800080; text-decoration-color: #800080; font-weight: bold\"> 'scrape-index'</span>\n",
              "</pre>\n"
            ]
          },
          "metadata": {}
        },
        {
          "output_type": "display_data",
          "data": {
            "text/plain": [
              "21:15:52.189 | \u001b[36mINFO\u001b[0m    | Flow run\u001b[35m 'wondrous-chowchow'\u001b[0m - View at \u001b[94mhttps://app.prefect.cloud/account/653e4ddd-190d-458f-8d15-a805d74582fd/workspace/0fcb490f-3873-41a3-bf9b-272ee4f0d89b/flow-runs/flow-run/24604878-740e-451a-bfd6-32f4f64f9b1d\u001b[0m\n"
            ],
            "text/html": [
              "<pre style=\"white-space:pre;overflow-x:auto;line-height:normal;font-family:Menlo,'DejaVu Sans Mono',consolas,'Courier New',monospace\">21:15:52.189 | <span style=\"color: #008080; text-decoration-color: #008080\">INFO</span>    | Flow run<span style=\"color: #800080; text-decoration-color: #800080\"> 'wondrous-chowchow'</span> - View at <span style=\"color: #0000ff; text-decoration-color: #0000ff\">https://app.prefect.cloud/account/653e4ddd-190d-458f-8d15-a805d74582fd/workspace/0fcb490f-3873-41a3-bf9b-272ee4f0d89b/flow-runs/flow-run/24604878-740e-451a-bfd6-32f4f64f9b1d</span>\n",
              "</pre>\n"
            ]
          },
          "metadata": {}
        },
        {
          "output_type": "display_data",
          "data": {
            "text/plain": [
              "21:15:52.498 | \u001b[36mINFO\u001b[0m    | Flow run\u001b[35m 'wondrous-chowchow'\u001b[0m - Created task run 'fetch_index_aggregates-0' for task 'fetch_index_aggregates'\n"
            ],
            "text/html": [
              "<pre style=\"white-space:pre;overflow-x:auto;line-height:normal;font-family:Menlo,'DejaVu Sans Mono',consolas,'Courier New',monospace\">21:15:52.498 | <span style=\"color: #008080; text-decoration-color: #008080\">INFO</span>    | Flow run<span style=\"color: #800080; text-decoration-color: #800080\"> 'wondrous-chowchow'</span> - Created task run 'fetch_index_aggregates-0' for task 'fetch_index_aggregates'\n",
              "</pre>\n"
            ]
          },
          "metadata": {}
        },
        {
          "output_type": "display_data",
          "data": {
            "text/plain": [
              "21:15:52.503 | \u001b[36mINFO\u001b[0m    | Flow run\u001b[35m 'wondrous-chowchow'\u001b[0m - Executing 'fetch_index_aggregates-0' immediately...\n"
            ],
            "text/html": [
              "<pre style=\"white-space:pre;overflow-x:auto;line-height:normal;font-family:Menlo,'DejaVu Sans Mono',consolas,'Courier New',monospace\">21:15:52.503 | <span style=\"color: #008080; text-decoration-color: #008080\">INFO</span>    | Flow run<span style=\"color: #800080; text-decoration-color: #800080\"> 'wondrous-chowchow'</span> - Executing 'fetch_index_aggregates-0' immediately...\n",
              "</pre>\n"
            ]
          },
          "metadata": {}
        },
        {
          "output_type": "display_data",
          "data": {
            "text/plain": [
              "21:15:52.991 | \u001b[36mINFO\u001b[0m    | Task run 'fetch_index_aggregates-0' - Finished in state \u001b[32mCompleted\u001b[0m()\n"
            ],
            "text/html": [
              "<pre style=\"white-space:pre;overflow-x:auto;line-height:normal;font-family:Menlo,'DejaVu Sans Mono',consolas,'Courier New',monospace\">21:15:52.991 | <span style=\"color: #008080; text-decoration-color: #008080\">INFO</span>    | Task run 'fetch_index_aggregates-0' - Finished in state <span style=\"color: #008000; text-decoration-color: #008000\">Completed</span>()\n",
              "</pre>\n"
            ]
          },
          "metadata": {}
        },
        {
          "output_type": "display_data",
          "data": {
            "text/plain": [
              "21:15:53.119 | \u001b[36mINFO\u001b[0m    | Flow run\u001b[35m 'wondrous-chowchow'\u001b[0m - Created task run 'load_index_into_db-0' for task 'load_index_into_db'\n"
            ],
            "text/html": [
              "<pre style=\"white-space:pre;overflow-x:auto;line-height:normal;font-family:Menlo,'DejaVu Sans Mono',consolas,'Courier New',monospace\">21:15:53.119 | <span style=\"color: #008080; text-decoration-color: #008080\">INFO</span>    | Flow run<span style=\"color: #800080; text-decoration-color: #800080\"> 'wondrous-chowchow'</span> - Created task run 'load_index_into_db-0' for task 'load_index_into_db'\n",
              "</pre>\n"
            ]
          },
          "metadata": {}
        },
        {
          "output_type": "display_data",
          "data": {
            "text/plain": [
              "21:15:53.122 | \u001b[36mINFO\u001b[0m    | Flow run\u001b[35m 'wondrous-chowchow'\u001b[0m - Executing 'load_index_into_db-0' immediately...\n"
            ],
            "text/html": [
              "<pre style=\"white-space:pre;overflow-x:auto;line-height:normal;font-family:Menlo,'DejaVu Sans Mono',consolas,'Courier New',monospace\">21:15:53.122 | <span style=\"color: #008080; text-decoration-color: #008080\">INFO</span>    | Flow run<span style=\"color: #800080; text-decoration-color: #800080\"> 'wondrous-chowchow'</span> - Executing 'load_index_into_db-0' immediately...\n",
              "</pre>\n"
            ]
          },
          "metadata": {}
        },
        {
          "output_type": "display_data",
          "data": {
            "text/plain": [
              "21:15:53.441 | \u001b[36mINFO\u001b[0m    | Task run 'load_index_into_db-0' - Finished in state \u001b[32mCompleted\u001b[0m()\n"
            ],
            "text/html": [
              "<pre style=\"white-space:pre;overflow-x:auto;line-height:normal;font-family:Menlo,'DejaVu Sans Mono',consolas,'Courier New',monospace\">21:15:53.441 | <span style=\"color: #008080; text-decoration-color: #008080\">INFO</span>    | Task run 'load_index_into_db-0' - Finished in state <span style=\"color: #008000; text-decoration-color: #008000\">Completed</span>()\n",
              "</pre>\n"
            ]
          },
          "metadata": {}
        },
        {
          "output_type": "display_data",
          "data": {
            "text/plain": [
              "21:15:53.593 | \u001b[36mINFO\u001b[0m    | Flow run\u001b[35m 'wondrous-chowchow'\u001b[0m - Finished in state \u001b[32mCompleted\u001b[0m()\n"
            ],
            "text/html": [
              "<pre style=\"white-space:pre;overflow-x:auto;line-height:normal;font-family:Menlo,'DejaVu Sans Mono',consolas,'Courier New',monospace\">21:15:53.593 | <span style=\"color: #008080; text-decoration-color: #008080\">INFO</span>    | Flow run<span style=\"color: #800080; text-decoration-color: #800080\"> 'wondrous-chowchow'</span> - Finished in state <span style=\"color: #008000; text-decoration-color: #008000\">Completed</span>()\n",
              "</pre>\n"
            ]
          },
          "metadata": {}
        },
        {
          "output_type": "display_data",
          "data": {
            "text/plain": [
              "21:15:55.819 | \u001b[36mINFO\u001b[0m    | prefect.engine - Created flow run\u001b[35m 'finicky-jackal'\u001b[0m for flow\u001b[1;35m 'scrape-index'\u001b[0m\n"
            ],
            "text/html": [
              "<pre style=\"white-space:pre;overflow-x:auto;line-height:normal;font-family:Menlo,'DejaVu Sans Mono',consolas,'Courier New',monospace\">21:15:55.819 | <span style=\"color: #008080; text-decoration-color: #008080\">INFO</span>    | prefect.engine - Created flow run<span style=\"color: #800080; text-decoration-color: #800080\"> 'finicky-jackal'</span> for flow<span style=\"color: #800080; text-decoration-color: #800080; font-weight: bold\"> 'scrape-index'</span>\n",
              "</pre>\n"
            ]
          },
          "metadata": {}
        },
        {
          "output_type": "display_data",
          "data": {
            "text/plain": [
              "21:15:55.822 | \u001b[36mINFO\u001b[0m    | Flow run\u001b[35m 'finicky-jackal'\u001b[0m - View at \u001b[94mhttps://app.prefect.cloud/account/653e4ddd-190d-458f-8d15-a805d74582fd/workspace/0fcb490f-3873-41a3-bf9b-272ee4f0d89b/flow-runs/flow-run/7d544729-08cc-4081-ad9d-64c108a8363a\u001b[0m\n"
            ],
            "text/html": [
              "<pre style=\"white-space:pre;overflow-x:auto;line-height:normal;font-family:Menlo,'DejaVu Sans Mono',consolas,'Courier New',monospace\">21:15:55.822 | <span style=\"color: #008080; text-decoration-color: #008080\">INFO</span>    | Flow run<span style=\"color: #800080; text-decoration-color: #800080\"> 'finicky-jackal'</span> - View at <span style=\"color: #0000ff; text-decoration-color: #0000ff\">https://app.prefect.cloud/account/653e4ddd-190d-458f-8d15-a805d74582fd/workspace/0fcb490f-3873-41a3-bf9b-272ee4f0d89b/flow-runs/flow-run/7d544729-08cc-4081-ad9d-64c108a8363a</span>\n",
              "</pre>\n"
            ]
          },
          "metadata": {}
        },
        {
          "output_type": "display_data",
          "data": {
            "text/plain": [
              "21:15:56.113 | \u001b[36mINFO\u001b[0m    | Flow run\u001b[35m 'finicky-jackal'\u001b[0m - Created task run 'fetch_index_aggregates-0' for task 'fetch_index_aggregates'\n"
            ],
            "text/html": [
              "<pre style=\"white-space:pre;overflow-x:auto;line-height:normal;font-family:Menlo,'DejaVu Sans Mono',consolas,'Courier New',monospace\">21:15:56.113 | <span style=\"color: #008080; text-decoration-color: #008080\">INFO</span>    | Flow run<span style=\"color: #800080; text-decoration-color: #800080\"> 'finicky-jackal'</span> - Created task run 'fetch_index_aggregates-0' for task 'fetch_index_aggregates'\n",
              "</pre>\n"
            ]
          },
          "metadata": {}
        },
        {
          "output_type": "display_data",
          "data": {
            "text/plain": [
              "21:15:56.116 | \u001b[36mINFO\u001b[0m    | Flow run\u001b[35m 'finicky-jackal'\u001b[0m - Executing 'fetch_index_aggregates-0' immediately...\n"
            ],
            "text/html": [
              "<pre style=\"white-space:pre;overflow-x:auto;line-height:normal;font-family:Menlo,'DejaVu Sans Mono',consolas,'Courier New',monospace\">21:15:56.116 | <span style=\"color: #008080; text-decoration-color: #008080\">INFO</span>    | Flow run<span style=\"color: #800080; text-decoration-color: #800080\"> 'finicky-jackal'</span> - Executing 'fetch_index_aggregates-0' immediately...\n",
              "</pre>\n"
            ]
          },
          "metadata": {}
        },
        {
          "output_type": "display_data",
          "data": {
            "text/plain": [
              "21:15:56.475 | \u001b[36mINFO\u001b[0m    | Task run 'fetch_index_aggregates-0' - Finished in state \u001b[32mCompleted\u001b[0m()\n"
            ],
            "text/html": [
              "<pre style=\"white-space:pre;overflow-x:auto;line-height:normal;font-family:Menlo,'DejaVu Sans Mono',consolas,'Courier New',monospace\">21:15:56.475 | <span style=\"color: #008080; text-decoration-color: #008080\">INFO</span>    | Task run 'fetch_index_aggregates-0' - Finished in state <span style=\"color: #008000; text-decoration-color: #008000\">Completed</span>()\n",
              "</pre>\n"
            ]
          },
          "metadata": {}
        },
        {
          "output_type": "display_data",
          "data": {
            "text/plain": [
              "21:15:57.002 | \u001b[36mINFO\u001b[0m    | Flow run\u001b[35m 'finicky-jackal'\u001b[0m - Created task run 'load_index_into_db-0' for task 'load_index_into_db'\n"
            ],
            "text/html": [
              "<pre style=\"white-space:pre;overflow-x:auto;line-height:normal;font-family:Menlo,'DejaVu Sans Mono',consolas,'Courier New',monospace\">21:15:57.002 | <span style=\"color: #008080; text-decoration-color: #008080\">INFO</span>    | Flow run<span style=\"color: #800080; text-decoration-color: #800080\"> 'finicky-jackal'</span> - Created task run 'load_index_into_db-0' for task 'load_index_into_db'\n",
              "</pre>\n"
            ]
          },
          "metadata": {}
        },
        {
          "output_type": "display_data",
          "data": {
            "text/plain": [
              "21:15:57.006 | \u001b[36mINFO\u001b[0m    | Flow run\u001b[35m 'finicky-jackal'\u001b[0m - Executing 'load_index_into_db-0' immediately...\n"
            ],
            "text/html": [
              "<pre style=\"white-space:pre;overflow-x:auto;line-height:normal;font-family:Menlo,'DejaVu Sans Mono',consolas,'Courier New',monospace\">21:15:57.006 | <span style=\"color: #008080; text-decoration-color: #008080\">INFO</span>    | Flow run<span style=\"color: #800080; text-decoration-color: #800080\"> 'finicky-jackal'</span> - Executing 'load_index_into_db-0' immediately...\n",
              "</pre>\n"
            ]
          },
          "metadata": {}
        },
        {
          "output_type": "display_data",
          "data": {
            "text/plain": [
              "21:15:57.363 | \u001b[36mINFO\u001b[0m    | Task run 'load_index_into_db-0' - Finished in state \u001b[32mCompleted\u001b[0m()\n"
            ],
            "text/html": [
              "<pre style=\"white-space:pre;overflow-x:auto;line-height:normal;font-family:Menlo,'DejaVu Sans Mono',consolas,'Courier New',monospace\">21:15:57.363 | <span style=\"color: #008080; text-decoration-color: #008080\">INFO</span>    | Task run 'load_index_into_db-0' - Finished in state <span style=\"color: #008000; text-decoration-color: #008000\">Completed</span>()\n",
              "</pre>\n"
            ]
          },
          "metadata": {}
        },
        {
          "output_type": "display_data",
          "data": {
            "text/plain": [
              "21:15:57.513 | \u001b[36mINFO\u001b[0m    | Flow run\u001b[35m 'finicky-jackal'\u001b[0m - Finished in state \u001b[32mCompleted\u001b[0m()\n"
            ],
            "text/html": [
              "<pre style=\"white-space:pre;overflow-x:auto;line-height:normal;font-family:Menlo,'DejaVu Sans Mono',consolas,'Courier New',monospace\">21:15:57.513 | <span style=\"color: #008080; text-decoration-color: #008080\">INFO</span>    | Flow run<span style=\"color: #800080; text-decoration-color: #800080\"> 'finicky-jackal'</span> - Finished in state <span style=\"color: #008000; text-decoration-color: #008000\">Completed</span>()\n",
              "</pre>\n"
            ]
          },
          "metadata": {}
        },
        {
          "output_type": "display_data",
          "data": {
            "text/plain": [
              "21:15:59.734 | \u001b[36mINFO\u001b[0m    | prefect.engine - Created flow run\u001b[35m 'rare-jaguarundi'\u001b[0m for flow\u001b[1;35m 'scrape-index'\u001b[0m\n"
            ],
            "text/html": [
              "<pre style=\"white-space:pre;overflow-x:auto;line-height:normal;font-family:Menlo,'DejaVu Sans Mono',consolas,'Courier New',monospace\">21:15:59.734 | <span style=\"color: #008080; text-decoration-color: #008080\">INFO</span>    | prefect.engine - Created flow run<span style=\"color: #800080; text-decoration-color: #800080\"> 'rare-jaguarundi'</span> for flow<span style=\"color: #800080; text-decoration-color: #800080; font-weight: bold\"> 'scrape-index'</span>\n",
              "</pre>\n"
            ]
          },
          "metadata": {}
        },
        {
          "output_type": "display_data",
          "data": {
            "text/plain": [
              "21:15:59.737 | \u001b[36mINFO\u001b[0m    | Flow run\u001b[35m 'rare-jaguarundi'\u001b[0m - View at \u001b[94mhttps://app.prefect.cloud/account/653e4ddd-190d-458f-8d15-a805d74582fd/workspace/0fcb490f-3873-41a3-bf9b-272ee4f0d89b/flow-runs/flow-run/029686ae-0bc8-47c4-99e7-4caa83378590\u001b[0m\n"
            ],
            "text/html": [
              "<pre style=\"white-space:pre;overflow-x:auto;line-height:normal;font-family:Menlo,'DejaVu Sans Mono',consolas,'Courier New',monospace\">21:15:59.737 | <span style=\"color: #008080; text-decoration-color: #008080\">INFO</span>    | Flow run<span style=\"color: #800080; text-decoration-color: #800080\"> 'rare-jaguarundi'</span> - View at <span style=\"color: #0000ff; text-decoration-color: #0000ff\">https://app.prefect.cloud/account/653e4ddd-190d-458f-8d15-a805d74582fd/workspace/0fcb490f-3873-41a3-bf9b-272ee4f0d89b/flow-runs/flow-run/029686ae-0bc8-47c4-99e7-4caa83378590</span>\n",
              "</pre>\n"
            ]
          },
          "metadata": {}
        },
        {
          "output_type": "display_data",
          "data": {
            "text/plain": [
              "21:15:59.981 | \u001b[36mINFO\u001b[0m    | Flow run\u001b[35m 'rare-jaguarundi'\u001b[0m - Created task run 'fetch_index_aggregates-0' for task 'fetch_index_aggregates'\n"
            ],
            "text/html": [
              "<pre style=\"white-space:pre;overflow-x:auto;line-height:normal;font-family:Menlo,'DejaVu Sans Mono',consolas,'Courier New',monospace\">21:15:59.981 | <span style=\"color: #008080; text-decoration-color: #008080\">INFO</span>    | Flow run<span style=\"color: #800080; text-decoration-color: #800080\"> 'rare-jaguarundi'</span> - Created task run 'fetch_index_aggregates-0' for task 'fetch_index_aggregates'\n",
              "</pre>\n"
            ]
          },
          "metadata": {}
        },
        {
          "output_type": "display_data",
          "data": {
            "text/plain": [
              "21:15:59.984 | \u001b[36mINFO\u001b[0m    | Flow run\u001b[35m 'rare-jaguarundi'\u001b[0m - Executing 'fetch_index_aggregates-0' immediately...\n"
            ],
            "text/html": [
              "<pre style=\"white-space:pre;overflow-x:auto;line-height:normal;font-family:Menlo,'DejaVu Sans Mono',consolas,'Courier New',monospace\">21:15:59.984 | <span style=\"color: #008080; text-decoration-color: #008080\">INFO</span>    | Flow run<span style=\"color: #800080; text-decoration-color: #800080\"> 'rare-jaguarundi'</span> - Executing 'fetch_index_aggregates-0' immediately...\n",
              "</pre>\n"
            ]
          },
          "metadata": {}
        },
        {
          "output_type": "display_data",
          "data": {
            "text/plain": [
              "21:16:00.793 | \u001b[36mINFO\u001b[0m    | Task run 'fetch_index_aggregates-0' - Finished in state \u001b[32mCompleted\u001b[0m()\n"
            ],
            "text/html": [
              "<pre style=\"white-space:pre;overflow-x:auto;line-height:normal;font-family:Menlo,'DejaVu Sans Mono',consolas,'Courier New',monospace\">21:16:00.793 | <span style=\"color: #008080; text-decoration-color: #008080\">INFO</span>    | Task run 'fetch_index_aggregates-0' - Finished in state <span style=\"color: #008000; text-decoration-color: #008000\">Completed</span>()\n",
              "</pre>\n"
            ]
          },
          "metadata": {}
        },
        {
          "output_type": "display_data",
          "data": {
            "text/plain": [
              "21:16:00.955 | \u001b[36mINFO\u001b[0m    | Flow run\u001b[35m 'rare-jaguarundi'\u001b[0m - Created task run 'load_index_into_db-0' for task 'load_index_into_db'\n"
            ],
            "text/html": [
              "<pre style=\"white-space:pre;overflow-x:auto;line-height:normal;font-family:Menlo,'DejaVu Sans Mono',consolas,'Courier New',monospace\">21:16:00.955 | <span style=\"color: #008080; text-decoration-color: #008080\">INFO</span>    | Flow run<span style=\"color: #800080; text-decoration-color: #800080\"> 'rare-jaguarundi'</span> - Created task run 'load_index_into_db-0' for task 'load_index_into_db'\n",
              "</pre>\n"
            ]
          },
          "metadata": {}
        },
        {
          "output_type": "display_data",
          "data": {
            "text/plain": [
              "21:16:00.958 | \u001b[36mINFO\u001b[0m    | Flow run\u001b[35m 'rare-jaguarundi'\u001b[0m - Executing 'load_index_into_db-0' immediately...\n"
            ],
            "text/html": [
              "<pre style=\"white-space:pre;overflow-x:auto;line-height:normal;font-family:Menlo,'DejaVu Sans Mono',consolas,'Courier New',monospace\">21:16:00.958 | <span style=\"color: #008080; text-decoration-color: #008080\">INFO</span>    | Flow run<span style=\"color: #800080; text-decoration-color: #800080\"> 'rare-jaguarundi'</span> - Executing 'load_index_into_db-0' immediately...\n",
              "</pre>\n"
            ]
          },
          "metadata": {}
        },
        {
          "output_type": "display_data",
          "data": {
            "text/plain": [
              "21:16:01.364 | \u001b[36mINFO\u001b[0m    | Task run 'load_index_into_db-0' - Finished in state \u001b[32mCompleted\u001b[0m()\n"
            ],
            "text/html": [
              "<pre style=\"white-space:pre;overflow-x:auto;line-height:normal;font-family:Menlo,'DejaVu Sans Mono',consolas,'Courier New',monospace\">21:16:01.364 | <span style=\"color: #008080; text-decoration-color: #008080\">INFO</span>    | Task run 'load_index_into_db-0' - Finished in state <span style=\"color: #008000; text-decoration-color: #008000\">Completed</span>()\n",
              "</pre>\n"
            ]
          },
          "metadata": {}
        },
        {
          "output_type": "display_data",
          "data": {
            "text/plain": [
              "21:16:01.586 | \u001b[36mINFO\u001b[0m    | Flow run\u001b[35m 'rare-jaguarundi'\u001b[0m - Finished in state \u001b[32mCompleted\u001b[0m()\n"
            ],
            "text/html": [
              "<pre style=\"white-space:pre;overflow-x:auto;line-height:normal;font-family:Menlo,'DejaVu Sans Mono',consolas,'Courier New',monospace\">21:16:01.586 | <span style=\"color: #008080; text-decoration-color: #008080\">INFO</span>    | Flow run<span style=\"color: #800080; text-decoration-color: #800080\"> 'rare-jaguarundi'</span> - Finished in state <span style=\"color: #008000; text-decoration-color: #008000\">Completed</span>()\n",
              "</pre>\n"
            ]
          },
          "metadata": {}
        },
        {
          "output_type": "display_data",
          "data": {
            "text/plain": [
              "21:16:03.861 | \u001b[36mINFO\u001b[0m    | prefect.engine - Created flow run\u001b[35m 'straight-macaque'\u001b[0m for flow\u001b[1;35m 'scrape-index'\u001b[0m\n"
            ],
            "text/html": [
              "<pre style=\"white-space:pre;overflow-x:auto;line-height:normal;font-family:Menlo,'DejaVu Sans Mono',consolas,'Courier New',monospace\">21:16:03.861 | <span style=\"color: #008080; text-decoration-color: #008080\">INFO</span>    | prefect.engine - Created flow run<span style=\"color: #800080; text-decoration-color: #800080\"> 'straight-macaque'</span> for flow<span style=\"color: #800080; text-decoration-color: #800080; font-weight: bold\"> 'scrape-index'</span>\n",
              "</pre>\n"
            ]
          },
          "metadata": {}
        },
        {
          "output_type": "display_data",
          "data": {
            "text/plain": [
              "21:16:03.867 | \u001b[36mINFO\u001b[0m    | Flow run\u001b[35m 'straight-macaque'\u001b[0m - View at \u001b[94mhttps://app.prefect.cloud/account/653e4ddd-190d-458f-8d15-a805d74582fd/workspace/0fcb490f-3873-41a3-bf9b-272ee4f0d89b/flow-runs/flow-run/6e69176f-24a3-451e-ab54-fbc76999dd29\u001b[0m\n"
            ],
            "text/html": [
              "<pre style=\"white-space:pre;overflow-x:auto;line-height:normal;font-family:Menlo,'DejaVu Sans Mono',consolas,'Courier New',monospace\">21:16:03.867 | <span style=\"color: #008080; text-decoration-color: #008080\">INFO</span>    | Flow run<span style=\"color: #800080; text-decoration-color: #800080\"> 'straight-macaque'</span> - View at <span style=\"color: #0000ff; text-decoration-color: #0000ff\">https://app.prefect.cloud/account/653e4ddd-190d-458f-8d15-a805d74582fd/workspace/0fcb490f-3873-41a3-bf9b-272ee4f0d89b/flow-runs/flow-run/6e69176f-24a3-451e-ab54-fbc76999dd29</span>\n",
              "</pre>\n"
            ]
          },
          "metadata": {}
        },
        {
          "output_type": "display_data",
          "data": {
            "text/plain": [
              "21:16:04.076 | \u001b[36mINFO\u001b[0m    | Flow run\u001b[35m 'straight-macaque'\u001b[0m - Created task run 'fetch_index_aggregates-0' for task 'fetch_index_aggregates'\n"
            ],
            "text/html": [
              "<pre style=\"white-space:pre;overflow-x:auto;line-height:normal;font-family:Menlo,'DejaVu Sans Mono',consolas,'Courier New',monospace\">21:16:04.076 | <span style=\"color: #008080; text-decoration-color: #008080\">INFO</span>    | Flow run<span style=\"color: #800080; text-decoration-color: #800080\"> 'straight-macaque'</span> - Created task run 'fetch_index_aggregates-0' for task 'fetch_index_aggregates'\n",
              "</pre>\n"
            ]
          },
          "metadata": {}
        },
        {
          "output_type": "display_data",
          "data": {
            "text/plain": [
              "21:16:04.080 | \u001b[36mINFO\u001b[0m    | Flow run\u001b[35m 'straight-macaque'\u001b[0m - Executing 'fetch_index_aggregates-0' immediately...\n"
            ],
            "text/html": [
              "<pre style=\"white-space:pre;overflow-x:auto;line-height:normal;font-family:Menlo,'DejaVu Sans Mono',consolas,'Courier New',monospace\">21:16:04.080 | <span style=\"color: #008080; text-decoration-color: #008080\">INFO</span>    | Flow run<span style=\"color: #800080; text-decoration-color: #800080\"> 'straight-macaque'</span> - Executing 'fetch_index_aggregates-0' immediately...\n",
              "</pre>\n"
            ]
          },
          "metadata": {}
        },
        {
          "output_type": "display_data",
          "data": {
            "text/plain": [
              "21:16:04.963 | \u001b[36mINFO\u001b[0m    | Task run 'fetch_index_aggregates-0' - Finished in state \u001b[32mCompleted\u001b[0m()\n"
            ],
            "text/html": [
              "<pre style=\"white-space:pre;overflow-x:auto;line-height:normal;font-family:Menlo,'DejaVu Sans Mono',consolas,'Courier New',monospace\">21:16:04.963 | <span style=\"color: #008080; text-decoration-color: #008080\">INFO</span>    | Task run 'fetch_index_aggregates-0' - Finished in state <span style=\"color: #008000; text-decoration-color: #008000\">Completed</span>()\n",
              "</pre>\n"
            ]
          },
          "metadata": {}
        },
        {
          "output_type": "display_data",
          "data": {
            "text/plain": [
              "21:16:05.158 | \u001b[36mINFO\u001b[0m    | Flow run\u001b[35m 'straight-macaque'\u001b[0m - Created task run 'load_index_into_db-0' for task 'load_index_into_db'\n"
            ],
            "text/html": [
              "<pre style=\"white-space:pre;overflow-x:auto;line-height:normal;font-family:Menlo,'DejaVu Sans Mono',consolas,'Courier New',monospace\">21:16:05.158 | <span style=\"color: #008080; text-decoration-color: #008080\">INFO</span>    | Flow run<span style=\"color: #800080; text-decoration-color: #800080\"> 'straight-macaque'</span> - Created task run 'load_index_into_db-0' for task 'load_index_into_db'\n",
              "</pre>\n"
            ]
          },
          "metadata": {}
        },
        {
          "output_type": "display_data",
          "data": {
            "text/plain": [
              "21:16:05.165 | \u001b[36mINFO\u001b[0m    | Flow run\u001b[35m 'straight-macaque'\u001b[0m - Executing 'load_index_into_db-0' immediately...\n"
            ],
            "text/html": [
              "<pre style=\"white-space:pre;overflow-x:auto;line-height:normal;font-family:Menlo,'DejaVu Sans Mono',consolas,'Courier New',monospace\">21:16:05.165 | <span style=\"color: #008080; text-decoration-color: #008080\">INFO</span>    | Flow run<span style=\"color: #800080; text-decoration-color: #800080\"> 'straight-macaque'</span> - Executing 'load_index_into_db-0' immediately...\n",
              "</pre>\n"
            ]
          },
          "metadata": {}
        },
        {
          "output_type": "display_data",
          "data": {
            "text/plain": [
              "21:16:05.598 | \u001b[36mINFO\u001b[0m    | Task run 'load_index_into_db-0' - Finished in state \u001b[32mCompleted\u001b[0m()\n"
            ],
            "text/html": [
              "<pre style=\"white-space:pre;overflow-x:auto;line-height:normal;font-family:Menlo,'DejaVu Sans Mono',consolas,'Courier New',monospace\">21:16:05.598 | <span style=\"color: #008080; text-decoration-color: #008080\">INFO</span>    | Task run 'load_index_into_db-0' - Finished in state <span style=\"color: #008000; text-decoration-color: #008000\">Completed</span>()\n",
              "</pre>\n"
            ]
          },
          "metadata": {}
        },
        {
          "output_type": "display_data",
          "data": {
            "text/plain": [
              "21:16:05.739 | \u001b[36mINFO\u001b[0m    | Flow run\u001b[35m 'straight-macaque'\u001b[0m - Finished in state \u001b[32mCompleted\u001b[0m()\n"
            ],
            "text/html": [
              "<pre style=\"white-space:pre;overflow-x:auto;line-height:normal;font-family:Menlo,'DejaVu Sans Mono',consolas,'Courier New',monospace\">21:16:05.739 | <span style=\"color: #008080; text-decoration-color: #008080\">INFO</span>    | Flow run<span style=\"color: #800080; text-decoration-color: #800080\"> 'straight-macaque'</span> - Finished in state <span style=\"color: #008000; text-decoration-color: #008000\">Completed</span>()\n",
              "</pre>\n"
            ]
          },
          "metadata": {}
        },
        {
          "output_type": "display_data",
          "data": {
            "text/plain": [
              "21:16:08.001 | \u001b[36mINFO\u001b[0m    | prefect.engine - Created flow run\u001b[35m 'silver-rook'\u001b[0m for flow\u001b[1;35m 'scrape-index'\u001b[0m\n"
            ],
            "text/html": [
              "<pre style=\"white-space:pre;overflow-x:auto;line-height:normal;font-family:Menlo,'DejaVu Sans Mono',consolas,'Courier New',monospace\">21:16:08.001 | <span style=\"color: #008080; text-decoration-color: #008080\">INFO</span>    | prefect.engine - Created flow run<span style=\"color: #800080; text-decoration-color: #800080\"> 'silver-rook'</span> for flow<span style=\"color: #800080; text-decoration-color: #800080; font-weight: bold\"> 'scrape-index'</span>\n",
              "</pre>\n"
            ]
          },
          "metadata": {}
        },
        {
          "output_type": "display_data",
          "data": {
            "text/plain": [
              "21:16:08.004 | \u001b[36mINFO\u001b[0m    | Flow run\u001b[35m 'silver-rook'\u001b[0m - View at \u001b[94mhttps://app.prefect.cloud/account/653e4ddd-190d-458f-8d15-a805d74582fd/workspace/0fcb490f-3873-41a3-bf9b-272ee4f0d89b/flow-runs/flow-run/dff49357-9397-4be2-983d-a4a4bad656d2\u001b[0m\n"
            ],
            "text/html": [
              "<pre style=\"white-space:pre;overflow-x:auto;line-height:normal;font-family:Menlo,'DejaVu Sans Mono',consolas,'Courier New',monospace\">21:16:08.004 | <span style=\"color: #008080; text-decoration-color: #008080\">INFO</span>    | Flow run<span style=\"color: #800080; text-decoration-color: #800080\"> 'silver-rook'</span> - View at <span style=\"color: #0000ff; text-decoration-color: #0000ff\">https://app.prefect.cloud/account/653e4ddd-190d-458f-8d15-a805d74582fd/workspace/0fcb490f-3873-41a3-bf9b-272ee4f0d89b/flow-runs/flow-run/dff49357-9397-4be2-983d-a4a4bad656d2</span>\n",
              "</pre>\n"
            ]
          },
          "metadata": {}
        },
        {
          "output_type": "display_data",
          "data": {
            "text/plain": [
              "21:16:08.198 | \u001b[36mINFO\u001b[0m    | Flow run\u001b[35m 'silver-rook'\u001b[0m - Created task run 'fetch_index_aggregates-0' for task 'fetch_index_aggregates'\n"
            ],
            "text/html": [
              "<pre style=\"white-space:pre;overflow-x:auto;line-height:normal;font-family:Menlo,'DejaVu Sans Mono',consolas,'Courier New',monospace\">21:16:08.198 | <span style=\"color: #008080; text-decoration-color: #008080\">INFO</span>    | Flow run<span style=\"color: #800080; text-decoration-color: #800080\"> 'silver-rook'</span> - Created task run 'fetch_index_aggregates-0' for task 'fetch_index_aggregates'\n",
              "</pre>\n"
            ]
          },
          "metadata": {}
        },
        {
          "output_type": "display_data",
          "data": {
            "text/plain": [
              "21:16:08.201 | \u001b[36mINFO\u001b[0m    | Flow run\u001b[35m 'silver-rook'\u001b[0m - Executing 'fetch_index_aggregates-0' immediately...\n"
            ],
            "text/html": [
              "<pre style=\"white-space:pre;overflow-x:auto;line-height:normal;font-family:Menlo,'DejaVu Sans Mono',consolas,'Courier New',monospace\">21:16:08.201 | <span style=\"color: #008080; text-decoration-color: #008080\">INFO</span>    | Flow run<span style=\"color: #800080; text-decoration-color: #800080\"> 'silver-rook'</span> - Executing 'fetch_index_aggregates-0' immediately...\n",
              "</pre>\n"
            ]
          },
          "metadata": {}
        },
        {
          "output_type": "display_data",
          "data": {
            "text/plain": [
              "21:16:08.552 | \u001b[36mINFO\u001b[0m    | Task run 'fetch_index_aggregates-0' - Finished in state \u001b[32mCompleted\u001b[0m()\n"
            ],
            "text/html": [
              "<pre style=\"white-space:pre;overflow-x:auto;line-height:normal;font-family:Menlo,'DejaVu Sans Mono',consolas,'Courier New',monospace\">21:16:08.552 | <span style=\"color: #008080; text-decoration-color: #008080\">INFO</span>    | Task run 'fetch_index_aggregates-0' - Finished in state <span style=\"color: #008000; text-decoration-color: #008000\">Completed</span>()\n",
              "</pre>\n"
            ]
          },
          "metadata": {}
        },
        {
          "output_type": "display_data",
          "data": {
            "text/plain": [
              "21:16:08.725 | \u001b[36mINFO\u001b[0m    | Flow run\u001b[35m 'silver-rook'\u001b[0m - Created task run 'load_index_into_db-0' for task 'load_index_into_db'\n"
            ],
            "text/html": [
              "<pre style=\"white-space:pre;overflow-x:auto;line-height:normal;font-family:Menlo,'DejaVu Sans Mono',consolas,'Courier New',monospace\">21:16:08.725 | <span style=\"color: #008080; text-decoration-color: #008080\">INFO</span>    | Flow run<span style=\"color: #800080; text-decoration-color: #800080\"> 'silver-rook'</span> - Created task run 'load_index_into_db-0' for task 'load_index_into_db'\n",
              "</pre>\n"
            ]
          },
          "metadata": {}
        },
        {
          "output_type": "display_data",
          "data": {
            "text/plain": [
              "21:16:08.728 | \u001b[36mINFO\u001b[0m    | Flow run\u001b[35m 'silver-rook'\u001b[0m - Executing 'load_index_into_db-0' immediately...\n"
            ],
            "text/html": [
              "<pre style=\"white-space:pre;overflow-x:auto;line-height:normal;font-family:Menlo,'DejaVu Sans Mono',consolas,'Courier New',monospace\">21:16:08.728 | <span style=\"color: #008080; text-decoration-color: #008080\">INFO</span>    | Flow run<span style=\"color: #800080; text-decoration-color: #800080\"> 'silver-rook'</span> - Executing 'load_index_into_db-0' immediately...\n",
              "</pre>\n"
            ]
          },
          "metadata": {}
        },
        {
          "output_type": "display_data",
          "data": {
            "text/plain": [
              "21:16:09.042 | \u001b[36mINFO\u001b[0m    | Task run 'load_index_into_db-0' - Finished in state \u001b[32mCompleted\u001b[0m()\n"
            ],
            "text/html": [
              "<pre style=\"white-space:pre;overflow-x:auto;line-height:normal;font-family:Menlo,'DejaVu Sans Mono',consolas,'Courier New',monospace\">21:16:09.042 | <span style=\"color: #008080; text-decoration-color: #008080\">INFO</span>    | Task run 'load_index_into_db-0' - Finished in state <span style=\"color: #008000; text-decoration-color: #008000\">Completed</span>()\n",
              "</pre>\n"
            ]
          },
          "metadata": {}
        },
        {
          "output_type": "display_data",
          "data": {
            "text/plain": [
              "21:16:09.229 | \u001b[36mINFO\u001b[0m    | Flow run\u001b[35m 'silver-rook'\u001b[0m - Finished in state \u001b[32mCompleted\u001b[0m()\n"
            ],
            "text/html": [
              "<pre style=\"white-space:pre;overflow-x:auto;line-height:normal;font-family:Menlo,'DejaVu Sans Mono',consolas,'Courier New',monospace\">21:16:09.229 | <span style=\"color: #008080; text-decoration-color: #008080\">INFO</span>    | Flow run<span style=\"color: #800080; text-decoration-color: #800080\"> 'silver-rook'</span> - Finished in state <span style=\"color: #008000; text-decoration-color: #008000\">Completed</span>()\n",
              "</pre>\n"
            ]
          },
          "metadata": {}
        },
        {
          "output_type": "display_data",
          "data": {
            "text/plain": [
              "21:16:12.168 | \u001b[36mINFO\u001b[0m    | prefect.engine - Created flow run\u001b[35m 'fragrant-orangutan'\u001b[0m for flow\u001b[1;35m 'scrape-index'\u001b[0m\n"
            ],
            "text/html": [
              "<pre style=\"white-space:pre;overflow-x:auto;line-height:normal;font-family:Menlo,'DejaVu Sans Mono',consolas,'Courier New',monospace\">21:16:12.168 | <span style=\"color: #008080; text-decoration-color: #008080\">INFO</span>    | prefect.engine - Created flow run<span style=\"color: #800080; text-decoration-color: #800080\"> 'fragrant-orangutan'</span> for flow<span style=\"color: #800080; text-decoration-color: #800080; font-weight: bold\"> 'scrape-index'</span>\n",
              "</pre>\n"
            ]
          },
          "metadata": {}
        },
        {
          "output_type": "display_data",
          "data": {
            "text/plain": [
              "21:16:12.170 | \u001b[36mINFO\u001b[0m    | Flow run\u001b[35m 'fragrant-orangutan'\u001b[0m - View at \u001b[94mhttps://app.prefect.cloud/account/653e4ddd-190d-458f-8d15-a805d74582fd/workspace/0fcb490f-3873-41a3-bf9b-272ee4f0d89b/flow-runs/flow-run/babda1a3-4108-47ce-9fc7-874439a8dadf\u001b[0m\n"
            ],
            "text/html": [
              "<pre style=\"white-space:pre;overflow-x:auto;line-height:normal;font-family:Menlo,'DejaVu Sans Mono',consolas,'Courier New',monospace\">21:16:12.170 | <span style=\"color: #008080; text-decoration-color: #008080\">INFO</span>    | Flow run<span style=\"color: #800080; text-decoration-color: #800080\"> 'fragrant-orangutan'</span> - View at <span style=\"color: #0000ff; text-decoration-color: #0000ff\">https://app.prefect.cloud/account/653e4ddd-190d-458f-8d15-a805d74582fd/workspace/0fcb490f-3873-41a3-bf9b-272ee4f0d89b/flow-runs/flow-run/babda1a3-4108-47ce-9fc7-874439a8dadf</span>\n",
              "</pre>\n"
            ]
          },
          "metadata": {}
        },
        {
          "output_type": "display_data",
          "data": {
            "text/plain": [
              "21:16:12.410 | \u001b[36mINFO\u001b[0m    | Flow run\u001b[35m 'fragrant-orangutan'\u001b[0m - Created task run 'fetch_index_aggregates-0' for task 'fetch_index_aggregates'\n"
            ],
            "text/html": [
              "<pre style=\"white-space:pre;overflow-x:auto;line-height:normal;font-family:Menlo,'DejaVu Sans Mono',consolas,'Courier New',monospace\">21:16:12.410 | <span style=\"color: #008080; text-decoration-color: #008080\">INFO</span>    | Flow run<span style=\"color: #800080; text-decoration-color: #800080\"> 'fragrant-orangutan'</span> - Created task run 'fetch_index_aggregates-0' for task 'fetch_index_aggregates'\n",
              "</pre>\n"
            ]
          },
          "metadata": {}
        },
        {
          "output_type": "display_data",
          "data": {
            "text/plain": [
              "21:16:12.417 | \u001b[36mINFO\u001b[0m    | Flow run\u001b[35m 'fragrant-orangutan'\u001b[0m - Executing 'fetch_index_aggregates-0' immediately...\n"
            ],
            "text/html": [
              "<pre style=\"white-space:pre;overflow-x:auto;line-height:normal;font-family:Menlo,'DejaVu Sans Mono',consolas,'Courier New',monospace\">21:16:12.417 | <span style=\"color: #008080; text-decoration-color: #008080\">INFO</span>    | Flow run<span style=\"color: #800080; text-decoration-color: #800080\"> 'fragrant-orangutan'</span> - Executing 'fetch_index_aggregates-0' immediately...\n",
              "</pre>\n"
            ]
          },
          "metadata": {}
        },
        {
          "output_type": "display_data",
          "data": {
            "text/plain": [
              "21:16:12.814 | \u001b[36mINFO\u001b[0m    | Task run 'fetch_index_aggregates-0' - Finished in state \u001b[32mCompleted\u001b[0m()\n"
            ],
            "text/html": [
              "<pre style=\"white-space:pre;overflow-x:auto;line-height:normal;font-family:Menlo,'DejaVu Sans Mono',consolas,'Courier New',monospace\">21:16:12.814 | <span style=\"color: #008080; text-decoration-color: #008080\">INFO</span>    | Task run 'fetch_index_aggregates-0' - Finished in state <span style=\"color: #008000; text-decoration-color: #008000\">Completed</span>()\n",
              "</pre>\n"
            ]
          },
          "metadata": {}
        },
        {
          "output_type": "display_data",
          "data": {
            "text/plain": [
              "21:16:13.063 | \u001b[36mINFO\u001b[0m    | Flow run\u001b[35m 'fragrant-orangutan'\u001b[0m - Created task run 'load_index_into_db-0' for task 'load_index_into_db'\n"
            ],
            "text/html": [
              "<pre style=\"white-space:pre;overflow-x:auto;line-height:normal;font-family:Menlo,'DejaVu Sans Mono',consolas,'Courier New',monospace\">21:16:13.063 | <span style=\"color: #008080; text-decoration-color: #008080\">INFO</span>    | Flow run<span style=\"color: #800080; text-decoration-color: #800080\"> 'fragrant-orangutan'</span> - Created task run 'load_index_into_db-0' for task 'load_index_into_db'\n",
              "</pre>\n"
            ]
          },
          "metadata": {}
        },
        {
          "output_type": "display_data",
          "data": {
            "text/plain": [
              "21:16:13.067 | \u001b[36mINFO\u001b[0m    | Flow run\u001b[35m 'fragrant-orangutan'\u001b[0m - Executing 'load_index_into_db-0' immediately...\n"
            ],
            "text/html": [
              "<pre style=\"white-space:pre;overflow-x:auto;line-height:normal;font-family:Menlo,'DejaVu Sans Mono',consolas,'Courier New',monospace\">21:16:13.067 | <span style=\"color: #008080; text-decoration-color: #008080\">INFO</span>    | Flow run<span style=\"color: #800080; text-decoration-color: #800080\"> 'fragrant-orangutan'</span> - Executing 'load_index_into_db-0' immediately...\n",
              "</pre>\n"
            ]
          },
          "metadata": {}
        },
        {
          "output_type": "display_data",
          "data": {
            "text/plain": [
              "21:16:13.351 | \u001b[36mINFO\u001b[0m    | Task run 'load_index_into_db-0' - Finished in state \u001b[32mCompleted\u001b[0m()\n"
            ],
            "text/html": [
              "<pre style=\"white-space:pre;overflow-x:auto;line-height:normal;font-family:Menlo,'DejaVu Sans Mono',consolas,'Courier New',monospace\">21:16:13.351 | <span style=\"color: #008080; text-decoration-color: #008080\">INFO</span>    | Task run 'load_index_into_db-0' - Finished in state <span style=\"color: #008000; text-decoration-color: #008000\">Completed</span>()\n",
              "</pre>\n"
            ]
          },
          "metadata": {}
        },
        {
          "output_type": "display_data",
          "data": {
            "text/plain": [
              "21:16:13.489 | \u001b[36mINFO\u001b[0m    | Flow run\u001b[35m 'fragrant-orangutan'\u001b[0m - Finished in state \u001b[32mCompleted\u001b[0m()\n"
            ],
            "text/html": [
              "<pre style=\"white-space:pre;overflow-x:auto;line-height:normal;font-family:Menlo,'DejaVu Sans Mono',consolas,'Courier New',monospace\">21:16:13.489 | <span style=\"color: #008080; text-decoration-color: #008080\">INFO</span>    | Flow run<span style=\"color: #800080; text-decoration-color: #800080\"> 'fragrant-orangutan'</span> - Finished in state <span style=\"color: #008000; text-decoration-color: #008000\">Completed</span>()\n",
              "</pre>\n"
            ]
          },
          "metadata": {}
        },
        {
          "output_type": "display_data",
          "data": {
            "text/plain": [
              "21:16:15.785 | \u001b[36mINFO\u001b[0m    | prefect.engine - Created flow run\u001b[35m 'evasive-duck'\u001b[0m for flow\u001b[1;35m 'scrape-index'\u001b[0m\n"
            ],
            "text/html": [
              "<pre style=\"white-space:pre;overflow-x:auto;line-height:normal;font-family:Menlo,'DejaVu Sans Mono',consolas,'Courier New',monospace\">21:16:15.785 | <span style=\"color: #008080; text-decoration-color: #008080\">INFO</span>    | prefect.engine - Created flow run<span style=\"color: #800080; text-decoration-color: #800080\"> 'evasive-duck'</span> for flow<span style=\"color: #800080; text-decoration-color: #800080; font-weight: bold\"> 'scrape-index'</span>\n",
              "</pre>\n"
            ]
          },
          "metadata": {}
        },
        {
          "output_type": "display_data",
          "data": {
            "text/plain": [
              "21:16:15.791 | \u001b[36mINFO\u001b[0m    | Flow run\u001b[35m 'evasive-duck'\u001b[0m - View at \u001b[94mhttps://app.prefect.cloud/account/653e4ddd-190d-458f-8d15-a805d74582fd/workspace/0fcb490f-3873-41a3-bf9b-272ee4f0d89b/flow-runs/flow-run/776781ad-1ce8-4dfb-8653-c0c77c7e0dc1\u001b[0m\n"
            ],
            "text/html": [
              "<pre style=\"white-space:pre;overflow-x:auto;line-height:normal;font-family:Menlo,'DejaVu Sans Mono',consolas,'Courier New',monospace\">21:16:15.791 | <span style=\"color: #008080; text-decoration-color: #008080\">INFO</span>    | Flow run<span style=\"color: #800080; text-decoration-color: #800080\"> 'evasive-duck'</span> - View at <span style=\"color: #0000ff; text-decoration-color: #0000ff\">https://app.prefect.cloud/account/653e4ddd-190d-458f-8d15-a805d74582fd/workspace/0fcb490f-3873-41a3-bf9b-272ee4f0d89b/flow-runs/flow-run/776781ad-1ce8-4dfb-8653-c0c77c7e0dc1</span>\n",
              "</pre>\n"
            ]
          },
          "metadata": {}
        },
        {
          "output_type": "display_data",
          "data": {
            "text/plain": [
              "21:16:16.041 | \u001b[36mINFO\u001b[0m    | Flow run\u001b[35m 'evasive-duck'\u001b[0m - Created task run 'fetch_index_aggregates-0' for task 'fetch_index_aggregates'\n"
            ],
            "text/html": [
              "<pre style=\"white-space:pre;overflow-x:auto;line-height:normal;font-family:Menlo,'DejaVu Sans Mono',consolas,'Courier New',monospace\">21:16:16.041 | <span style=\"color: #008080; text-decoration-color: #008080\">INFO</span>    | Flow run<span style=\"color: #800080; text-decoration-color: #800080\"> 'evasive-duck'</span> - Created task run 'fetch_index_aggregates-0' for task 'fetch_index_aggregates'\n",
              "</pre>\n"
            ]
          },
          "metadata": {}
        },
        {
          "output_type": "display_data",
          "data": {
            "text/plain": [
              "21:16:16.045 | \u001b[36mINFO\u001b[0m    | Flow run\u001b[35m 'evasive-duck'\u001b[0m - Executing 'fetch_index_aggregates-0' immediately...\n"
            ],
            "text/html": [
              "<pre style=\"white-space:pre;overflow-x:auto;line-height:normal;font-family:Menlo,'DejaVu Sans Mono',consolas,'Courier New',monospace\">21:16:16.045 | <span style=\"color: #008080; text-decoration-color: #008080\">INFO</span>    | Flow run<span style=\"color: #800080; text-decoration-color: #800080\"> 'evasive-duck'</span> - Executing 'fetch_index_aggregates-0' immediately...\n",
              "</pre>\n"
            ]
          },
          "metadata": {}
        },
        {
          "output_type": "display_data",
          "data": {
            "text/plain": [
              "21:16:16.596 | \u001b[36mINFO\u001b[0m    | Task run 'fetch_index_aggregates-0' - Finished in state \u001b[32mCompleted\u001b[0m()\n"
            ],
            "text/html": [
              "<pre style=\"white-space:pre;overflow-x:auto;line-height:normal;font-family:Menlo,'DejaVu Sans Mono',consolas,'Courier New',monospace\">21:16:16.596 | <span style=\"color: #008080; text-decoration-color: #008080\">INFO</span>    | Task run 'fetch_index_aggregates-0' - Finished in state <span style=\"color: #008000; text-decoration-color: #008000\">Completed</span>()\n",
              "</pre>\n"
            ]
          },
          "metadata": {}
        },
        {
          "output_type": "display_data",
          "data": {
            "text/plain": [
              "21:16:16.789 | \u001b[36mINFO\u001b[0m    | Flow run\u001b[35m 'evasive-duck'\u001b[0m - Created task run 'load_index_into_db-0' for task 'load_index_into_db'\n"
            ],
            "text/html": [
              "<pre style=\"white-space:pre;overflow-x:auto;line-height:normal;font-family:Menlo,'DejaVu Sans Mono',consolas,'Courier New',monospace\">21:16:16.789 | <span style=\"color: #008080; text-decoration-color: #008080\">INFO</span>    | Flow run<span style=\"color: #800080; text-decoration-color: #800080\"> 'evasive-duck'</span> - Created task run 'load_index_into_db-0' for task 'load_index_into_db'\n",
              "</pre>\n"
            ]
          },
          "metadata": {}
        },
        {
          "output_type": "display_data",
          "data": {
            "text/plain": [
              "21:16:16.794 | \u001b[36mINFO\u001b[0m    | Flow run\u001b[35m 'evasive-duck'\u001b[0m - Executing 'load_index_into_db-0' immediately...\n"
            ],
            "text/html": [
              "<pre style=\"white-space:pre;overflow-x:auto;line-height:normal;font-family:Menlo,'DejaVu Sans Mono',consolas,'Courier New',monospace\">21:16:16.794 | <span style=\"color: #008080; text-decoration-color: #008080\">INFO</span>    | Flow run<span style=\"color: #800080; text-decoration-color: #800080\"> 'evasive-duck'</span> - Executing 'load_index_into_db-0' immediately...\n",
              "</pre>\n"
            ]
          },
          "metadata": {}
        },
        {
          "output_type": "display_data",
          "data": {
            "text/plain": [
              "21:16:17.169 | \u001b[36mINFO\u001b[0m    | Task run 'load_index_into_db-0' - Finished in state \u001b[32mCompleted\u001b[0m()\n"
            ],
            "text/html": [
              "<pre style=\"white-space:pre;overflow-x:auto;line-height:normal;font-family:Menlo,'DejaVu Sans Mono',consolas,'Courier New',monospace\">21:16:17.169 | <span style=\"color: #008080; text-decoration-color: #008080\">INFO</span>    | Task run 'load_index_into_db-0' - Finished in state <span style=\"color: #008000; text-decoration-color: #008000\">Completed</span>()\n",
              "</pre>\n"
            ]
          },
          "metadata": {}
        },
        {
          "output_type": "display_data",
          "data": {
            "text/plain": [
              "21:16:17.371 | \u001b[36mINFO\u001b[0m    | Flow run\u001b[35m 'evasive-duck'\u001b[0m - Finished in state \u001b[32mCompleted\u001b[0m()\n"
            ],
            "text/html": [
              "<pre style=\"white-space:pre;overflow-x:auto;line-height:normal;font-family:Menlo,'DejaVu Sans Mono',consolas,'Courier New',monospace\">21:16:17.371 | <span style=\"color: #008080; text-decoration-color: #008080\">INFO</span>    | Flow run<span style=\"color: #800080; text-decoration-color: #800080\"> 'evasive-duck'</span> - Finished in state <span style=\"color: #008000; text-decoration-color: #008000\">Completed</span>()\n",
              "</pre>\n"
            ]
          },
          "metadata": {}
        },
        {
          "output_type": "display_data",
          "data": {
            "text/plain": [
              "21:16:19.662 | \u001b[36mINFO\u001b[0m    | prefect.engine - Created flow run\u001b[35m 'versatile-crocodile'\u001b[0m for flow\u001b[1;35m 'scrape-index'\u001b[0m\n"
            ],
            "text/html": [
              "<pre style=\"white-space:pre;overflow-x:auto;line-height:normal;font-family:Menlo,'DejaVu Sans Mono',consolas,'Courier New',monospace\">21:16:19.662 | <span style=\"color: #008080; text-decoration-color: #008080\">INFO</span>    | prefect.engine - Created flow run<span style=\"color: #800080; text-decoration-color: #800080\"> 'versatile-crocodile'</span> for flow<span style=\"color: #800080; text-decoration-color: #800080; font-weight: bold\"> 'scrape-index'</span>\n",
              "</pre>\n"
            ]
          },
          "metadata": {}
        },
        {
          "output_type": "display_data",
          "data": {
            "text/plain": [
              "21:16:19.664 | \u001b[36mINFO\u001b[0m    | Flow run\u001b[35m 'versatile-crocodile'\u001b[0m - View at \u001b[94mhttps://app.prefect.cloud/account/653e4ddd-190d-458f-8d15-a805d74582fd/workspace/0fcb490f-3873-41a3-bf9b-272ee4f0d89b/flow-runs/flow-run/ba437070-85ab-4ddb-a070-b89a8351f876\u001b[0m\n"
            ],
            "text/html": [
              "<pre style=\"white-space:pre;overflow-x:auto;line-height:normal;font-family:Menlo,'DejaVu Sans Mono',consolas,'Courier New',monospace\">21:16:19.664 | <span style=\"color: #008080; text-decoration-color: #008080\">INFO</span>    | Flow run<span style=\"color: #800080; text-decoration-color: #800080\"> 'versatile-crocodile'</span> - View at <span style=\"color: #0000ff; text-decoration-color: #0000ff\">https://app.prefect.cloud/account/653e4ddd-190d-458f-8d15-a805d74582fd/workspace/0fcb490f-3873-41a3-bf9b-272ee4f0d89b/flow-runs/flow-run/ba437070-85ab-4ddb-a070-b89a8351f876</span>\n",
              "</pre>\n"
            ]
          },
          "metadata": {}
        },
        {
          "output_type": "display_data",
          "data": {
            "text/plain": [
              "21:16:19.860 | \u001b[36mINFO\u001b[0m    | Flow run\u001b[35m 'versatile-crocodile'\u001b[0m - Created task run 'fetch_index_aggregates-0' for task 'fetch_index_aggregates'\n"
            ],
            "text/html": [
              "<pre style=\"white-space:pre;overflow-x:auto;line-height:normal;font-family:Menlo,'DejaVu Sans Mono',consolas,'Courier New',monospace\">21:16:19.860 | <span style=\"color: #008080; text-decoration-color: #008080\">INFO</span>    | Flow run<span style=\"color: #800080; text-decoration-color: #800080\"> 'versatile-crocodile'</span> - Created task run 'fetch_index_aggregates-0' for task 'fetch_index_aggregates'\n",
              "</pre>\n"
            ]
          },
          "metadata": {}
        },
        {
          "output_type": "display_data",
          "data": {
            "text/plain": [
              "21:16:19.865 | \u001b[36mINFO\u001b[0m    | Flow run\u001b[35m 'versatile-crocodile'\u001b[0m - Executing 'fetch_index_aggregates-0' immediately...\n"
            ],
            "text/html": [
              "<pre style=\"white-space:pre;overflow-x:auto;line-height:normal;font-family:Menlo,'DejaVu Sans Mono',consolas,'Courier New',monospace\">21:16:19.865 | <span style=\"color: #008080; text-decoration-color: #008080\">INFO</span>    | Flow run<span style=\"color: #800080; text-decoration-color: #800080\"> 'versatile-crocodile'</span> - Executing 'fetch_index_aggregates-0' immediately...\n",
              "</pre>\n"
            ]
          },
          "metadata": {}
        },
        {
          "output_type": "display_data",
          "data": {
            "text/plain": [
              "21:16:20.274 | \u001b[36mINFO\u001b[0m    | Task run 'fetch_index_aggregates-0' - Finished in state \u001b[32mCompleted\u001b[0m()\n"
            ],
            "text/html": [
              "<pre style=\"white-space:pre;overflow-x:auto;line-height:normal;font-family:Menlo,'DejaVu Sans Mono',consolas,'Courier New',monospace\">21:16:20.274 | <span style=\"color: #008080; text-decoration-color: #008080\">INFO</span>    | Task run 'fetch_index_aggregates-0' - Finished in state <span style=\"color: #008000; text-decoration-color: #008000\">Completed</span>()\n",
              "</pre>\n"
            ]
          },
          "metadata": {}
        },
        {
          "output_type": "display_data",
          "data": {
            "text/plain": [
              "21:16:20.428 | \u001b[36mINFO\u001b[0m    | Flow run\u001b[35m 'versatile-crocodile'\u001b[0m - Created task run 'load_index_into_db-0' for task 'load_index_into_db'\n"
            ],
            "text/html": [
              "<pre style=\"white-space:pre;overflow-x:auto;line-height:normal;font-family:Menlo,'DejaVu Sans Mono',consolas,'Courier New',monospace\">21:16:20.428 | <span style=\"color: #008080; text-decoration-color: #008080\">INFO</span>    | Flow run<span style=\"color: #800080; text-decoration-color: #800080\"> 'versatile-crocodile'</span> - Created task run 'load_index_into_db-0' for task 'load_index_into_db'\n",
              "</pre>\n"
            ]
          },
          "metadata": {}
        },
        {
          "output_type": "display_data",
          "data": {
            "text/plain": [
              "21:16:20.431 | \u001b[36mINFO\u001b[0m    | Flow run\u001b[35m 'versatile-crocodile'\u001b[0m - Executing 'load_index_into_db-0' immediately...\n"
            ],
            "text/html": [
              "<pre style=\"white-space:pre;overflow-x:auto;line-height:normal;font-family:Menlo,'DejaVu Sans Mono',consolas,'Courier New',monospace\">21:16:20.431 | <span style=\"color: #008080; text-decoration-color: #008080\">INFO</span>    | Flow run<span style=\"color: #800080; text-decoration-color: #800080\"> 'versatile-crocodile'</span> - Executing 'load_index_into_db-0' immediately...\n",
              "</pre>\n"
            ]
          },
          "metadata": {}
        },
        {
          "output_type": "display_data",
          "data": {
            "text/plain": [
              "21:16:20.731 | \u001b[36mINFO\u001b[0m    | Task run 'load_index_into_db-0' - Finished in state \u001b[32mCompleted\u001b[0m()\n"
            ],
            "text/html": [
              "<pre style=\"white-space:pre;overflow-x:auto;line-height:normal;font-family:Menlo,'DejaVu Sans Mono',consolas,'Courier New',monospace\">21:16:20.731 | <span style=\"color: #008080; text-decoration-color: #008080\">INFO</span>    | Task run 'load_index_into_db-0' - Finished in state <span style=\"color: #008000; text-decoration-color: #008000\">Completed</span>()\n",
              "</pre>\n"
            ]
          },
          "metadata": {}
        },
        {
          "output_type": "display_data",
          "data": {
            "text/plain": [
              "21:16:20.884 | \u001b[36mINFO\u001b[0m    | Flow run\u001b[35m 'versatile-crocodile'\u001b[0m - Finished in state \u001b[32mCompleted\u001b[0m()\n"
            ],
            "text/html": [
              "<pre style=\"white-space:pre;overflow-x:auto;line-height:normal;font-family:Menlo,'DejaVu Sans Mono',consolas,'Courier New',monospace\">21:16:20.884 | <span style=\"color: #008080; text-decoration-color: #008080\">INFO</span>    | Flow run<span style=\"color: #800080; text-decoration-color: #800080\"> 'versatile-crocodile'</span> - Finished in state <span style=\"color: #008000; text-decoration-color: #008000\">Completed</span>()\n",
              "</pre>\n"
            ]
          },
          "metadata": {}
        },
        {
          "output_type": "display_data",
          "data": {
            "text/plain": [
              "21:16:23.120 | \u001b[36mINFO\u001b[0m    | prefect.engine - Created flow run\u001b[35m 'stirring-kingfisher'\u001b[0m for flow\u001b[1;35m 'scrape-index'\u001b[0m\n"
            ],
            "text/html": [
              "<pre style=\"white-space:pre;overflow-x:auto;line-height:normal;font-family:Menlo,'DejaVu Sans Mono',consolas,'Courier New',monospace\">21:16:23.120 | <span style=\"color: #008080; text-decoration-color: #008080\">INFO</span>    | prefect.engine - Created flow run<span style=\"color: #800080; text-decoration-color: #800080\"> 'stirring-kingfisher'</span> for flow<span style=\"color: #800080; text-decoration-color: #800080; font-weight: bold\"> 'scrape-index'</span>\n",
              "</pre>\n"
            ]
          },
          "metadata": {}
        },
        {
          "output_type": "display_data",
          "data": {
            "text/plain": [
              "21:16:23.123 | \u001b[36mINFO\u001b[0m    | Flow run\u001b[35m 'stirring-kingfisher'\u001b[0m - View at \u001b[94mhttps://app.prefect.cloud/account/653e4ddd-190d-458f-8d15-a805d74582fd/workspace/0fcb490f-3873-41a3-bf9b-272ee4f0d89b/flow-runs/flow-run/e671421e-c2a0-4f10-bf91-4f12b29d6719\u001b[0m\n"
            ],
            "text/html": [
              "<pre style=\"white-space:pre;overflow-x:auto;line-height:normal;font-family:Menlo,'DejaVu Sans Mono',consolas,'Courier New',monospace\">21:16:23.123 | <span style=\"color: #008080; text-decoration-color: #008080\">INFO</span>    | Flow run<span style=\"color: #800080; text-decoration-color: #800080\"> 'stirring-kingfisher'</span> - View at <span style=\"color: #0000ff; text-decoration-color: #0000ff\">https://app.prefect.cloud/account/653e4ddd-190d-458f-8d15-a805d74582fd/workspace/0fcb490f-3873-41a3-bf9b-272ee4f0d89b/flow-runs/flow-run/e671421e-c2a0-4f10-bf91-4f12b29d6719</span>\n",
              "</pre>\n"
            ]
          },
          "metadata": {}
        },
        {
          "output_type": "display_data",
          "data": {
            "text/plain": [
              "21:16:23.303 | \u001b[36mINFO\u001b[0m    | Flow run\u001b[35m 'stirring-kingfisher'\u001b[0m - Created task run 'fetch_index_aggregates-0' for task 'fetch_index_aggregates'\n"
            ],
            "text/html": [
              "<pre style=\"white-space:pre;overflow-x:auto;line-height:normal;font-family:Menlo,'DejaVu Sans Mono',consolas,'Courier New',monospace\">21:16:23.303 | <span style=\"color: #008080; text-decoration-color: #008080\">INFO</span>    | Flow run<span style=\"color: #800080; text-decoration-color: #800080\"> 'stirring-kingfisher'</span> - Created task run 'fetch_index_aggregates-0' for task 'fetch_index_aggregates'\n",
              "</pre>\n"
            ]
          },
          "metadata": {}
        },
        {
          "output_type": "display_data",
          "data": {
            "text/plain": [
              "21:16:23.308 | \u001b[36mINFO\u001b[0m    | Flow run\u001b[35m 'stirring-kingfisher'\u001b[0m - Executing 'fetch_index_aggregates-0' immediately...\n"
            ],
            "text/html": [
              "<pre style=\"white-space:pre;overflow-x:auto;line-height:normal;font-family:Menlo,'DejaVu Sans Mono',consolas,'Courier New',monospace\">21:16:23.308 | <span style=\"color: #008080; text-decoration-color: #008080\">INFO</span>    | Flow run<span style=\"color: #800080; text-decoration-color: #800080\"> 'stirring-kingfisher'</span> - Executing 'fetch_index_aggregates-0' immediately...\n",
              "</pre>\n"
            ]
          },
          "metadata": {}
        },
        {
          "output_type": "display_data",
          "data": {
            "text/plain": [
              "21:16:23.724 | \u001b[36mINFO\u001b[0m    | Task run 'fetch_index_aggregates-0' - Finished in state \u001b[32mCompleted\u001b[0m()\n"
            ],
            "text/html": [
              "<pre style=\"white-space:pre;overflow-x:auto;line-height:normal;font-family:Menlo,'DejaVu Sans Mono',consolas,'Courier New',monospace\">21:16:23.724 | <span style=\"color: #008080; text-decoration-color: #008080\">INFO</span>    | Task run 'fetch_index_aggregates-0' - Finished in state <span style=\"color: #008000; text-decoration-color: #008000\">Completed</span>()\n",
              "</pre>\n"
            ]
          },
          "metadata": {}
        },
        {
          "output_type": "display_data",
          "data": {
            "text/plain": [
              "21:16:23.897 | \u001b[36mINFO\u001b[0m    | Flow run\u001b[35m 'stirring-kingfisher'\u001b[0m - Created task run 'load_index_into_db-0' for task 'load_index_into_db'\n"
            ],
            "text/html": [
              "<pre style=\"white-space:pre;overflow-x:auto;line-height:normal;font-family:Menlo,'DejaVu Sans Mono',consolas,'Courier New',monospace\">21:16:23.897 | <span style=\"color: #008080; text-decoration-color: #008080\">INFO</span>    | Flow run<span style=\"color: #800080; text-decoration-color: #800080\"> 'stirring-kingfisher'</span> - Created task run 'load_index_into_db-0' for task 'load_index_into_db'\n",
              "</pre>\n"
            ]
          },
          "metadata": {}
        },
        {
          "output_type": "display_data",
          "data": {
            "text/plain": [
              "21:16:23.900 | \u001b[36mINFO\u001b[0m    | Flow run\u001b[35m 'stirring-kingfisher'\u001b[0m - Executing 'load_index_into_db-0' immediately...\n"
            ],
            "text/html": [
              "<pre style=\"white-space:pre;overflow-x:auto;line-height:normal;font-family:Menlo,'DejaVu Sans Mono',consolas,'Courier New',monospace\">21:16:23.900 | <span style=\"color: #008080; text-decoration-color: #008080\">INFO</span>    | Flow run<span style=\"color: #800080; text-decoration-color: #800080\"> 'stirring-kingfisher'</span> - Executing 'load_index_into_db-0' immediately...\n",
              "</pre>\n"
            ]
          },
          "metadata": {}
        },
        {
          "output_type": "display_data",
          "data": {
            "text/plain": [
              "21:16:24.460 | \u001b[36mINFO\u001b[0m    | Task run 'load_index_into_db-0' - Finished in state \u001b[32mCompleted\u001b[0m()\n"
            ],
            "text/html": [
              "<pre style=\"white-space:pre;overflow-x:auto;line-height:normal;font-family:Menlo,'DejaVu Sans Mono',consolas,'Courier New',monospace\">21:16:24.460 | <span style=\"color: #008080; text-decoration-color: #008080\">INFO</span>    | Task run 'load_index_into_db-0' - Finished in state <span style=\"color: #008000; text-decoration-color: #008000\">Completed</span>()\n",
              "</pre>\n"
            ]
          },
          "metadata": {}
        },
        {
          "output_type": "display_data",
          "data": {
            "text/plain": [
              "21:16:24.637 | \u001b[36mINFO\u001b[0m    | Flow run\u001b[35m 'stirring-kingfisher'\u001b[0m - Finished in state \u001b[32mCompleted\u001b[0m()\n"
            ],
            "text/html": [
              "<pre style=\"white-space:pre;overflow-x:auto;line-height:normal;font-family:Menlo,'DejaVu Sans Mono',consolas,'Courier New',monospace\">21:16:24.637 | <span style=\"color: #008080; text-decoration-color: #008080\">INFO</span>    | Flow run<span style=\"color: #800080; text-decoration-color: #800080\"> 'stirring-kingfisher'</span> - Finished in state <span style=\"color: #008000; text-decoration-color: #008000\">Completed</span>()\n",
              "</pre>\n"
            ]
          },
          "metadata": {}
        },
        {
          "output_type": "display_data",
          "data": {
            "text/plain": [
              "21:16:26.859 | \u001b[36mINFO\u001b[0m    | prefect.engine - Created flow run\u001b[35m 'amaranth-swan'\u001b[0m for flow\u001b[1;35m 'scrape-index'\u001b[0m\n"
            ],
            "text/html": [
              "<pre style=\"white-space:pre;overflow-x:auto;line-height:normal;font-family:Menlo,'DejaVu Sans Mono',consolas,'Courier New',monospace\">21:16:26.859 | <span style=\"color: #008080; text-decoration-color: #008080\">INFO</span>    | prefect.engine - Created flow run<span style=\"color: #800080; text-decoration-color: #800080\"> 'amaranth-swan'</span> for flow<span style=\"color: #800080; text-decoration-color: #800080; font-weight: bold\"> 'scrape-index'</span>\n",
              "</pre>\n"
            ]
          },
          "metadata": {}
        },
        {
          "output_type": "display_data",
          "data": {
            "text/plain": [
              "21:16:26.862 | \u001b[36mINFO\u001b[0m    | Flow run\u001b[35m 'amaranth-swan'\u001b[0m - View at \u001b[94mhttps://app.prefect.cloud/account/653e4ddd-190d-458f-8d15-a805d74582fd/workspace/0fcb490f-3873-41a3-bf9b-272ee4f0d89b/flow-runs/flow-run/503349ca-2902-47ba-a348-254033fda69d\u001b[0m\n"
            ],
            "text/html": [
              "<pre style=\"white-space:pre;overflow-x:auto;line-height:normal;font-family:Menlo,'DejaVu Sans Mono',consolas,'Courier New',monospace\">21:16:26.862 | <span style=\"color: #008080; text-decoration-color: #008080\">INFO</span>    | Flow run<span style=\"color: #800080; text-decoration-color: #800080\"> 'amaranth-swan'</span> - View at <span style=\"color: #0000ff; text-decoration-color: #0000ff\">https://app.prefect.cloud/account/653e4ddd-190d-458f-8d15-a805d74582fd/workspace/0fcb490f-3873-41a3-bf9b-272ee4f0d89b/flow-runs/flow-run/503349ca-2902-47ba-a348-254033fda69d</span>\n",
              "</pre>\n"
            ]
          },
          "metadata": {}
        },
        {
          "output_type": "display_data",
          "data": {
            "text/plain": [
              "21:16:27.077 | \u001b[36mINFO\u001b[0m    | Flow run\u001b[35m 'amaranth-swan'\u001b[0m - Created task run 'fetch_index_aggregates-0' for task 'fetch_index_aggregates'\n"
            ],
            "text/html": [
              "<pre style=\"white-space:pre;overflow-x:auto;line-height:normal;font-family:Menlo,'DejaVu Sans Mono',consolas,'Courier New',monospace\">21:16:27.077 | <span style=\"color: #008080; text-decoration-color: #008080\">INFO</span>    | Flow run<span style=\"color: #800080; text-decoration-color: #800080\"> 'amaranth-swan'</span> - Created task run 'fetch_index_aggregates-0' for task 'fetch_index_aggregates'\n",
              "</pre>\n"
            ]
          },
          "metadata": {}
        },
        {
          "output_type": "display_data",
          "data": {
            "text/plain": [
              "21:16:27.081 | \u001b[36mINFO\u001b[0m    | Flow run\u001b[35m 'amaranth-swan'\u001b[0m - Executing 'fetch_index_aggregates-0' immediately...\n"
            ],
            "text/html": [
              "<pre style=\"white-space:pre;overflow-x:auto;line-height:normal;font-family:Menlo,'DejaVu Sans Mono',consolas,'Courier New',monospace\">21:16:27.081 | <span style=\"color: #008080; text-decoration-color: #008080\">INFO</span>    | Flow run<span style=\"color: #800080; text-decoration-color: #800080\"> 'amaranth-swan'</span> - Executing 'fetch_index_aggregates-0' immediately...\n",
              "</pre>\n"
            ]
          },
          "metadata": {}
        },
        {
          "output_type": "display_data",
          "data": {
            "text/plain": [
              "21:16:27.464 | \u001b[36mINFO\u001b[0m    | Task run 'fetch_index_aggregates-0' - Finished in state \u001b[32mCompleted\u001b[0m()\n"
            ],
            "text/html": [
              "<pre style=\"white-space:pre;overflow-x:auto;line-height:normal;font-family:Menlo,'DejaVu Sans Mono',consolas,'Courier New',monospace\">21:16:27.464 | <span style=\"color: #008080; text-decoration-color: #008080\">INFO</span>    | Task run 'fetch_index_aggregates-0' - Finished in state <span style=\"color: #008000; text-decoration-color: #008000\">Completed</span>()\n",
              "</pre>\n"
            ]
          },
          "metadata": {}
        },
        {
          "output_type": "display_data",
          "data": {
            "text/plain": [
              "21:16:27.604 | \u001b[36mINFO\u001b[0m    | Flow run\u001b[35m 'amaranth-swan'\u001b[0m - Created task run 'load_index_into_db-0' for task 'load_index_into_db'\n"
            ],
            "text/html": [
              "<pre style=\"white-space:pre;overflow-x:auto;line-height:normal;font-family:Menlo,'DejaVu Sans Mono',consolas,'Courier New',monospace\">21:16:27.604 | <span style=\"color: #008080; text-decoration-color: #008080\">INFO</span>    | Flow run<span style=\"color: #800080; text-decoration-color: #800080\"> 'amaranth-swan'</span> - Created task run 'load_index_into_db-0' for task 'load_index_into_db'\n",
              "</pre>\n"
            ]
          },
          "metadata": {}
        },
        {
          "output_type": "display_data",
          "data": {
            "text/plain": [
              "21:16:27.607 | \u001b[36mINFO\u001b[0m    | Flow run\u001b[35m 'amaranth-swan'\u001b[0m - Executing 'load_index_into_db-0' immediately...\n"
            ],
            "text/html": [
              "<pre style=\"white-space:pre;overflow-x:auto;line-height:normal;font-family:Menlo,'DejaVu Sans Mono',consolas,'Courier New',monospace\">21:16:27.607 | <span style=\"color: #008080; text-decoration-color: #008080\">INFO</span>    | Flow run<span style=\"color: #800080; text-decoration-color: #800080\"> 'amaranth-swan'</span> - Executing 'load_index_into_db-0' immediately...\n",
              "</pre>\n"
            ]
          },
          "metadata": {}
        },
        {
          "output_type": "display_data",
          "data": {
            "text/plain": [
              "21:16:27.951 | \u001b[36mINFO\u001b[0m    | Task run 'load_index_into_db-0' - Finished in state \u001b[32mCompleted\u001b[0m()\n"
            ],
            "text/html": [
              "<pre style=\"white-space:pre;overflow-x:auto;line-height:normal;font-family:Menlo,'DejaVu Sans Mono',consolas,'Courier New',monospace\">21:16:27.951 | <span style=\"color: #008080; text-decoration-color: #008080\">INFO</span>    | Task run 'load_index_into_db-0' - Finished in state <span style=\"color: #008000; text-decoration-color: #008000\">Completed</span>()\n",
              "</pre>\n"
            ]
          },
          "metadata": {}
        },
        {
          "output_type": "display_data",
          "data": {
            "text/plain": [
              "21:16:28.113 | \u001b[36mINFO\u001b[0m    | Flow run\u001b[35m 'amaranth-swan'\u001b[0m - Finished in state \u001b[32mCompleted\u001b[0m()\n"
            ],
            "text/html": [
              "<pre style=\"white-space:pre;overflow-x:auto;line-height:normal;font-family:Menlo,'DejaVu Sans Mono',consolas,'Courier New',monospace\">21:16:28.113 | <span style=\"color: #008080; text-decoration-color: #008080\">INFO</span>    | Flow run<span style=\"color: #800080; text-decoration-color: #800080\"> 'amaranth-swan'</span> - Finished in state <span style=\"color: #008000; text-decoration-color: #008000\">Completed</span>()\n",
              "</pre>\n"
            ]
          },
          "metadata": {}
        },
        {
          "output_type": "display_data",
          "data": {
            "text/plain": [
              "\u001b[32mYour flow \u001b[0m\u001b[32m'scrape-index'\u001b[0m\u001b[32m is being served and polling for scheduled runs!\u001b[0m\n",
              "\n",
              "To trigger a run for this flow, use the following command:\n",
              "\n",
              "\u001b[34m        \u001b[0m\u001b[34m$ prefect deployment run \u001b[0m\u001b[34m'scrape-index/report-deployment'\u001b[0m\n",
              "\n",
              "You can also run your flow via the Prefect UI: \u001b[4;34mhttps://app.prefect.cloud/account/653e4ddd-190d-458f-8d15-a805d74582fd/workspace/0fcb490f-3873-41a3-bf9b-272ee4f0d89b/deployments/deployment/2b6ad574-b66d-4e3c-91aa-937a4fb4b1c5\u001b[0m\n",
              "\n"
            ],
            "text/html": [
              "<pre style=\"white-space:pre;overflow-x:auto;line-height:normal;font-family:Menlo,'DejaVu Sans Mono',consolas,'Courier New',monospace\"><span style=\"color: #008000; text-decoration-color: #008000\">Your flow </span><span style=\"color: #008000; text-decoration-color: #008000\">'scrape-index'</span><span style=\"color: #008000; text-decoration-color: #008000\"> is being served and polling for scheduled runs!</span>\n",
              "\n",
              "To trigger a run for this flow, use the following command:\n",
              "\n",
              "<span style=\"color: #000080; text-decoration-color: #000080\">        $ prefect deployment run </span><span style=\"color: #000080; text-decoration-color: #000080\">'scrape-index/report-deployment'</span>\n",
              "\n",
              "You can also run your flow via the Prefect UI: <span style=\"color: #000080; text-decoration-color: #000080; text-decoration: underline\">https://app.prefect.cloud/account/653e4ddd-190d-458f-8d15-a805d74582fd/workspace/0fcb490f-3873-41a3-bf9b-272ee4f0d89b/deployments/deployment/2b6ad574-b66d-4e3c-91aa-937a4fb4b1c5</span>\n",
              "\n",
              "</pre>\n"
            ]
          },
          "metadata": {}
        },
        {
          "output_type": "error",
          "ename": "KeyboardInterrupt",
          "evalue": "",
          "traceback": [
            "\u001b[0;31m---------------------------------------------------------------------------\u001b[0m",
            "\u001b[0;31mKeyboardInterrupt\u001b[0m                         Traceback (most recent call last)",
            "\u001b[0;32m/content/index_scraper.py\u001b[0m in \u001b[0;36m<module>\u001b[0;34m\u001b[0m\n\u001b[1;32m     94\u001b[0m \u001b[0;34m\u001b[0m\u001b[0m\n\u001b[1;32m     95\u001b[0m \u001b[0;32mif\u001b[0m \u001b[0m__name__\u001b[0m \u001b[0;34m==\u001b[0m \u001b[0;34m\"__main__\"\u001b[0m\u001b[0;34m:\u001b[0m\u001b[0;34m\u001b[0m\u001b[0;34m\u001b[0m\u001b[0m\n\u001b[0;32m---> 96\u001b[0;31m     scrape_index.serve(name=\"report-deployment\",\n\u001b[0m\u001b[1;32m     97\u001b[0m                           \u001b[0mtags\u001b[0m\u001b[0;34m=\u001b[0m\u001b[0;34m[\u001b[0m\u001b[0;34m\"onboarding\"\u001b[0m\u001b[0;34m]\u001b[0m\u001b[0;34m,\u001b[0m\u001b[0;34m\u001b[0m\u001b[0;34m\u001b[0m\u001b[0m\n\u001b[1;32m     98\u001b[0m                           \u001b[0mparameters\u001b[0m\u001b[0;34m=\u001b[0m\u001b[0;34m{\u001b[0m\u001b[0;34m}\u001b[0m\u001b[0;34m,\u001b[0m\u001b[0;34m\u001b[0m\u001b[0;34m\u001b[0m\u001b[0m\n",
            "\u001b[0;32m/usr/local/lib/python3.10/dist-packages/prefect/utilities/asyncutils.py\u001b[0m in \u001b[0;36mcoroutine_wrapper\u001b[0;34m(*args, **kwargs)\u001b[0m\n\u001b[1;32m    293\u001b[0m             return from_sync.call_soon_in_loop_thread(\n\u001b[1;32m    294\u001b[0m                 \u001b[0mcreate_call\u001b[0m\u001b[0;34m(\u001b[0m\u001b[0masync_fn\u001b[0m\u001b[0;34m,\u001b[0m \u001b[0;34m*\u001b[0m\u001b[0margs\u001b[0m\u001b[0;34m,\u001b[0m \u001b[0;34m**\u001b[0m\u001b[0mkwargs\u001b[0m\u001b[0;34m)\u001b[0m\u001b[0;34m\u001b[0m\u001b[0;34m\u001b[0m\u001b[0m\n\u001b[0;32m--> 295\u001b[0;31m             ).result()\n\u001b[0m\u001b[1;32m    296\u001b[0m         \u001b[0;32melse\u001b[0m\u001b[0;34m:\u001b[0m\u001b[0;34m\u001b[0m\u001b[0;34m\u001b[0m\u001b[0m\n\u001b[1;32m    297\u001b[0m             \u001b[0mlogger\u001b[0m\u001b[0;34m.\u001b[0m\u001b[0mdebug\u001b[0m\u001b[0;34m(\u001b[0m\u001b[0;34mf\"{async_fn} --> run async in new loop\"\u001b[0m\u001b[0;34m)\u001b[0m\u001b[0;34m\u001b[0m\u001b[0;34m\u001b[0m\u001b[0m\n",
            "\u001b[0;32m/usr/local/lib/python3.10/dist-packages/prefect/_internal/concurrency/calls.py\u001b[0m in \u001b[0;36mresult\u001b[0;34m(self, timeout)\u001b[0m\n\u001b[1;32m    316\u001b[0m         \u001b[0mNot\u001b[0m \u001b[0msafe\u001b[0m \u001b[0;32mfor\u001b[0m \u001b[0muse\u001b[0m \u001b[0;32mfrom\u001b[0m \u001b[0masynchronous\u001b[0m \u001b[0mcontexts\u001b[0m\u001b[0;34m.\u001b[0m\u001b[0;34m\u001b[0m\u001b[0;34m\u001b[0m\u001b[0m\n\u001b[1;32m    317\u001b[0m         \"\"\"\n\u001b[0;32m--> 318\u001b[0;31m         \u001b[0;32mreturn\u001b[0m \u001b[0mself\u001b[0m\u001b[0;34m.\u001b[0m\u001b[0mfuture\u001b[0m\u001b[0;34m.\u001b[0m\u001b[0mresult\u001b[0m\u001b[0;34m(\u001b[0m\u001b[0mtimeout\u001b[0m\u001b[0;34m=\u001b[0m\u001b[0mtimeout\u001b[0m\u001b[0;34m)\u001b[0m\u001b[0;34m\u001b[0m\u001b[0;34m\u001b[0m\u001b[0m\n\u001b[0m\u001b[1;32m    319\u001b[0m \u001b[0;34m\u001b[0m\u001b[0m\n\u001b[1;32m    320\u001b[0m     \u001b[0;32masync\u001b[0m \u001b[0;32mdef\u001b[0m \u001b[0maresult\u001b[0m\u001b[0;34m(\u001b[0m\u001b[0mself\u001b[0m\u001b[0;34m)\u001b[0m\u001b[0;34m:\u001b[0m\u001b[0;34m\u001b[0m\u001b[0;34m\u001b[0m\u001b[0m\n",
            "\u001b[0;32m/usr/local/lib/python3.10/dist-packages/prefect/_internal/concurrency/calls.py\u001b[0m in \u001b[0;36mresult\u001b[0;34m(self, timeout)\u001b[0m\n\u001b[1;32m    179\u001b[0m                     \u001b[0;32mreturn\u001b[0m \u001b[0mself\u001b[0m\u001b[0;34m.\u001b[0m\u001b[0m__get_result\u001b[0m\u001b[0;34m(\u001b[0m\u001b[0;34m)\u001b[0m\u001b[0;34m\u001b[0m\u001b[0;34m\u001b[0m\u001b[0m\n\u001b[1;32m    180\u001b[0m \u001b[0;34m\u001b[0m\u001b[0m\n\u001b[0;32m--> 181\u001b[0;31m                 \u001b[0mself\u001b[0m\u001b[0;34m.\u001b[0m\u001b[0m_condition\u001b[0m\u001b[0;34m.\u001b[0m\u001b[0mwait\u001b[0m\u001b[0;34m(\u001b[0m\u001b[0mtimeout\u001b[0m\u001b[0;34m)\u001b[0m\u001b[0;34m\u001b[0m\u001b[0;34m\u001b[0m\u001b[0m\n\u001b[0m\u001b[1;32m    182\u001b[0m \u001b[0;34m\u001b[0m\u001b[0m\n\u001b[1;32m    183\u001b[0m                 \u001b[0;32mif\u001b[0m \u001b[0mself\u001b[0m\u001b[0;34m.\u001b[0m\u001b[0m_state\u001b[0m \u001b[0;32min\u001b[0m \u001b[0;34m[\u001b[0m\u001b[0mCANCELLED\u001b[0m\u001b[0;34m,\u001b[0m \u001b[0mCANCELLED_AND_NOTIFIED\u001b[0m\u001b[0;34m]\u001b[0m\u001b[0;34m:\u001b[0m\u001b[0;34m\u001b[0m\u001b[0;34m\u001b[0m\u001b[0m\n",
            "\u001b[0;32m/usr/lib/python3.10/threading.py\u001b[0m in \u001b[0;36mwait\u001b[0;34m(self, timeout)\u001b[0m\n\u001b[1;32m    318\u001b[0m         \u001b[0;32mtry\u001b[0m\u001b[0;34m:\u001b[0m    \u001b[0;31m# restore state no matter what (e.g., KeyboardInterrupt)\u001b[0m\u001b[0;34m\u001b[0m\u001b[0;34m\u001b[0m\u001b[0m\n\u001b[1;32m    319\u001b[0m             \u001b[0;32mif\u001b[0m \u001b[0mtimeout\u001b[0m \u001b[0;32mis\u001b[0m \u001b[0;32mNone\u001b[0m\u001b[0;34m:\u001b[0m\u001b[0;34m\u001b[0m\u001b[0;34m\u001b[0m\u001b[0m\n\u001b[0;32m--> 320\u001b[0;31m                 \u001b[0mwaiter\u001b[0m\u001b[0;34m.\u001b[0m\u001b[0macquire\u001b[0m\u001b[0;34m(\u001b[0m\u001b[0;34m)\u001b[0m\u001b[0;34m\u001b[0m\u001b[0;34m\u001b[0m\u001b[0m\n\u001b[0m\u001b[1;32m    321\u001b[0m                 \u001b[0mgotit\u001b[0m \u001b[0;34m=\u001b[0m \u001b[0;32mTrue\u001b[0m\u001b[0;34m\u001b[0m\u001b[0;34m\u001b[0m\u001b[0m\n\u001b[1;32m    322\u001b[0m             \u001b[0;32melse\u001b[0m\u001b[0;34m:\u001b[0m\u001b[0;34m\u001b[0m\u001b[0;34m\u001b[0m\u001b[0m\n",
            "\u001b[0;31mKeyboardInterrupt\u001b[0m: "
          ]
        }
      ]
    },
    {
      "cell_type": "markdown",
      "source": [
        "**Combining both Index & Stock Reports into one ETL with one combined artifact**"
      ],
      "metadata": {
        "id": "5nKTuGe8Netd"
      }
    },
    {
      "cell_type": "code",
      "source": [
        "%%writefile market_report_flow.py\n",
        "# Generate report ETL flow\n",
        "from prefect.artifacts import create_markdown_artifact\n",
        "import matplotlib.pyplot as plt\n",
        "import base64\n",
        "from collections import Counter\n",
        "from pprint import pprint\n",
        "from typing import List\n",
        "from prefect.artifacts import create_markdown_artifact\n",
        "import matplotlib.pyplot as plt\n",
        "from bs4 import BeautifulSoup\n",
        "from prefect import flow, task\n",
        "from pydantic import BaseModel, field_validator, HttpUrl\n",
        "from pydantic import BaseModel, FilePath, HttpUrl, NonNegativeInt\n",
        "import requests\n",
        "import time\n",
        "from datetime import datetime, timedelta\n",
        "import pandas as pd\n",
        "\n",
        "# Generating Stocks Part of Artifact\n",
        "\n",
        "# Extract from json file of ticker info\n",
        "@task\n",
        "def extract_stocks(db_fpath):\n",
        "  extract_df = pd.read_json(db_fpath, lines = True)\n",
        "  # Calculate price change\n",
        "  extract_df['price_change'] = extract_df['close'] - extract_df['open']\n",
        "  return extract_df\n",
        "\n",
        "# Aggregate stock ticker info for the report\n",
        "@task\n",
        "def topn_stocks(df):\n",
        "  # Sort and select top 10 price increases and decreases\n",
        "  top_10_increases = df.nlargest(10, 'price_change')\n",
        "  top_10_decreases = df.nsmallest(10, 'price_change')\n",
        "  # Sort by transactions and select the top 10\n",
        "  top_10_transactions = df.nlargest(10, 'transactions')\n",
        "\n",
        "  return top_10_increases, top_10_decreases, top_10_transactions\n",
        "\n",
        "@task\n",
        "# Function to add labels to the bars\n",
        "def add_labels(ax, bars):\n",
        "    for bar in bars:\n",
        "        height = bar.get_height()\n",
        "        ax.annotate(f'{height:.2f}',\n",
        "                    xy=(bar.get_x() + bar.get_width() / 2, height),\n",
        "                    xytext=(0, 3),  # 3 points vertical offset\n",
        "                    textcoords=\"offset points\",\n",
        "                    ha='center', va='bottom')\n",
        "\n",
        "def viz_top_10_increase(top_10_increases):\n",
        "  # Generate visualizations for implementation in report\n",
        "  fig, ax = plt.subplots(figsize=(10, 6))\n",
        "  bars = ax.bar(top_10_increases['ticker'], top_10_increases['price_change'], color='green')\n",
        "  add_labels(ax, bars)\n",
        "  plt.xlabel('Ticker')\n",
        "  plt.ylabel('Price Increase')\n",
        "  plt.title('Top 10 Companies with Biggest Price Increase')\n",
        "  plt.xticks(rotation=45)\n",
        "  plt.grid(axis='y', linestyle='--', alpha=0.7)\n",
        "  plt.savefig('top_10_increases.png')\n",
        "\n",
        "def viz_top_10_decrease(top_10_decreases):\n",
        "  # Generate visualizations for implementation in report\n",
        "  fig, ax = plt.subplots(figsize=(10, 6))\n",
        "  bars = ax.bar(top_10_decreases['ticker'], top_10_decreases['price_change'], color='red')\n",
        "  add_labels(ax, bars)\n",
        "  plt.xlabel('Ticker')\n",
        "  plt.ylabel('Price Decrease')\n",
        "  plt.title('Top 10 Companies with Biggest Price Decrease')\n",
        "  plt.xticks(rotation=45)\n",
        "  plt.grid(axis='y', linestyle='--', alpha=0.7)\n",
        "  plt.savefig('top_10_decreases.png')\n",
        "\n",
        "def viz_top_10_transactions(top_10_transactions):\n",
        "  # Plotting horizontal bar chart\n",
        "  plt.figure(figsize=(10, 8))\n",
        "  plt.barh(top_10_transactions['ticker'], top_10_transactions['transactions'], color='teal')\n",
        "  plt.xlabel('Transactions')\n",
        "  plt.title('Top 10 Companies with Highest Transactions')\n",
        "  plt.gca().invert_yaxis()  # Invert y-axis to have the highest values on top\n",
        "  plt.grid(axis='x', linestyle='--', alpha=0.7)\n",
        "\n",
        "  # Adding data labels\n",
        "  for index, value in enumerate(top_10_transactions['transactions']):\n",
        "      plt.text(value, index, f'{value:,}')  # Adding a thousands separator for readability\n",
        "  plt.savefig('top_10_transactions.png')\n",
        "\n",
        "# Generating Index Part of Artifact\n",
        "\n",
        "@task\n",
        "def extract_indices(db_fpath):\n",
        "    extract_df = pd.read_json(db_fpath, lines=True)\n",
        "    return extract_df\n",
        "\n",
        "@task\n",
        "def calculate_return(df):\n",
        "    df['return'] = ((df['close'] - df['open']) / df['open']) * 100\n",
        "    return df\n",
        "\n",
        "@task\n",
        "def visualize_returns(df):\n",
        "    unique_tickers = df['ticker'].unique()\n",
        "    plt.figure(figsize=(12, 8))\n",
        "    plt.bar(unique_tickers, df.groupby('ticker')['return'].mean(), color='blue')\n",
        "    plt.xlabel('Ticker')\n",
        "    plt.ylabel('Return (%)')\n",
        "    plt.title('Return Percentage for Market Indices')\n",
        "    plt.xticks(rotation=45)\n",
        "    plt.grid(axis='y', linestyle='--', alpha=0.7)\n",
        "    plt.tight_layout()\n",
        "    plt.savefig('index_returns.png')\n",
        "\n",
        "@task\n",
        "def visualize_volume(df):\n",
        "    plt.figure(figsize=(12, 8))\n",
        "    plt.bar(df['ticker'], df['volume'], color='green')\n",
        "    plt.xlabel('Ticker')\n",
        "    plt.ylabel('Volume Traded (in 10s of millions)')\n",
        "    plt.title('Volume Traded for Market Index ETFs')\n",
        "    plt.xticks(rotation=45)\n",
        "    plt.grid(axis='y', linestyle='--', alpha=0.7)\n",
        "    plt.tight_layout()\n",
        "    plt.savefig('index_volume.png')\n",
        "\n",
        "# Function to save image as base64 string\n",
        "@task\n",
        "def save_image_base64(image_path):\n",
        "    with open(image_path, \"rb\") as img_file:\n",
        "        return base64.b64encode(img_file.read()).decode('utf-8')\n",
        "\n",
        "# Create markdown artifact (summary report)\n",
        "@task\n",
        "def load_into_report(top_10_increases, top_10_decreases, top_10_transactions, df_returns):\n",
        "\n",
        "  # Encode images as base64 strings\n",
        "  top_10_increases_image = save_image_base64('top_10_increases.png')\n",
        "  top_10_decreases_image = save_image_base64('top_10_decreases.png')\n",
        "  top_10_transactions_image = save_image_base64('top_10_transactions.png')\n",
        "  index_returns_image = save_image_base64('index_returns.png')\n",
        "  index_volume_image = save_image_base64('index_volume.png')\n",
        "\n",
        "  report_md = f\"\"\"\n",
        "  # Daily Market Report\n",
        "  ## Market Overview\n",
        "  ### Index Returns\n",
        "\n",
        "\n",
        "  ![Index Returns](data:image/png;base64,{index_returns_image})\n",
        "\n",
        "  {df_returns.to_markdown()}\n",
        "\n",
        "  ### Index Volume\n",
        "\n",
        "  ![Index Volume](data:image/png;base64,{index_volume_image})\n",
        "\n",
        "  ## Individual Stocks\n",
        "  ### Stock Price Increases\n",
        "\n",
        "  The top 10 stock increases were:\n",
        "\n",
        "  {top_10_increases[['ticker', 'price_change']].to_markdown()}\n",
        "\n",
        "  ![Top 10 Increases](data:image/png;base64,{top_10_increases_image})\n",
        "\n",
        "  ### Stock Price Decreases\n",
        "\n",
        "  The top 10 stock decreases were:\n",
        "\n",
        "  {top_10_decreases[['ticker', 'price_change']].to_markdown()}\n",
        "\n",
        "  ![Top 10 Decreases](data:image/png;base64,{top_10_decreases_image})\n",
        "\n",
        "  ### Highest Transactions\n",
        "\n",
        "  The top 10 companies with the highest transactions were:\n",
        "\n",
        "  {top_10_transactions[['ticker', 'transactions']].to_markdown()}\n",
        "\n",
        "  ![Top 10 Transactions](data:image/png;base64,{top_10_transactions_image})\n",
        "  \"\"\"\n",
        "  create_markdown_artifact(\n",
        "      markdown=report_md,\n",
        "      key=\"stock-scrape-report\",\n",
        "      description=\"Stock Scraping Results\")\n",
        "\n",
        "@flow\n",
        "def generate_report(db_fpath_stock = \"extracted_stocks.jsonl\", db_fpath_index = \"extracted_indices.jsonl\"):\n",
        "  extracted_stocks = extract_stocks(db_fpath_stock)\n",
        "  top_10_increases, top_10_decreases, top_10_transactions = topn_stocks(extracted_stocks)\n",
        "  viz_top_10_increase(top_10_increases)\n",
        "  viz_top_10_decrease(top_10_decreases)\n",
        "  viz_top_10_transactions(top_10_transactions)\n",
        "  extracted_indices = extract_indices(db_fpath_index)\n",
        "  calculated_returns = calculate_return(extracted_indices)\n",
        "  visualized_returns = visualize_returns(calculated_returns)\n",
        "  visualized_volume = visualize_volume(extracted_indices)\n",
        "  load_into_report(top_10_increases, top_10_decreases, top_10_transactions, calculated_returns)\n",
        "\n",
        "generate_report()\n",
        "\n",
        "if __name__ == \"__main__\":\n",
        "    generate_report.serve(name=\"report-deployment\",\n",
        "                          tags=[\"onboarding\"],\n",
        "                          parameters={},\n",
        "                          interval=86400)  # Set interval to 86400 seconds (24 hours)"
      ],
      "metadata": {
        "id": "e_234AvYhKHI",
        "colab": {
          "base_uri": "https://localhost:8080/",
          "height": 0
        },
        "outputId": "f4633925-003e-484f-e8d2-1f8a8dbc60f7"
      },
      "execution_count": 54,
      "outputs": [
        {
          "output_type": "stream",
          "name": "stdout",
          "text": [
            "Overwriting market_report_flow.py\n"
          ]
        }
      ]
    },
    {
      "cell_type": "code",
      "source": [
        "%run market_report_flow.py"
      ],
      "metadata": {
        "id": "pfDdlSg3DaTp",
        "colab": {
          "base_uri": "https://localhost:8080/",
          "height": 1000
        },
        "outputId": "33a517e2-4b7a-4d4b-e96f-c121c16967ad"
      },
      "execution_count": 77,
      "outputs": [
        {
          "output_type": "display_data",
          "data": {
            "text/plain": [
              "20:53:56.287 | \u001b[36mINFO\u001b[0m    | prefect.engine - Created flow run\u001b[35m 'stirring-elk'\u001b[0m for flow\u001b[1;35m 'generate-report'\u001b[0m\n"
            ],
            "text/html": [
              "<pre style=\"white-space:pre;overflow-x:auto;line-height:normal;font-family:Menlo,'DejaVu Sans Mono',consolas,'Courier New',monospace\">20:53:56.287 | <span style=\"color: #008080; text-decoration-color: #008080\">INFO</span>    | prefect.engine - Created flow run<span style=\"color: #800080; text-decoration-color: #800080\"> 'stirring-elk'</span> for flow<span style=\"color: #800080; text-decoration-color: #800080; font-weight: bold\"> 'generate-report'</span>\n",
              "</pre>\n"
            ]
          },
          "metadata": {}
        },
        {
          "output_type": "display_data",
          "data": {
            "text/plain": [
              "20:53:56.290 | \u001b[36mINFO\u001b[0m    | Flow run\u001b[35m 'stirring-elk'\u001b[0m - View at \u001b[94mhttps://app.prefect.cloud/account/653e4ddd-190d-458f-8d15-a805d74582fd/workspace/0fcb490f-3873-41a3-bf9b-272ee4f0d89b/flow-runs/flow-run/35d68ca9-19eb-463b-9bdd-15937a4b5e58\u001b[0m\n"
            ],
            "text/html": [
              "<pre style=\"white-space:pre;overflow-x:auto;line-height:normal;font-family:Menlo,'DejaVu Sans Mono',consolas,'Courier New',monospace\">20:53:56.290 | <span style=\"color: #008080; text-decoration-color: #008080\">INFO</span>    | Flow run<span style=\"color: #800080; text-decoration-color: #800080\"> 'stirring-elk'</span> - View at <span style=\"color: #0000ff; text-decoration-color: #0000ff\">https://app.prefect.cloud/account/653e4ddd-190d-458f-8d15-a805d74582fd/workspace/0fcb490f-3873-41a3-bf9b-272ee4f0d89b/flow-runs/flow-run/35d68ca9-19eb-463b-9bdd-15937a4b5e58</span>\n",
              "</pre>\n"
            ]
          },
          "metadata": {}
        },
        {
          "output_type": "display_data",
          "data": {
            "text/plain": [
              "20:53:56.525 | \u001b[36mINFO\u001b[0m    | Flow run\u001b[35m 'stirring-elk'\u001b[0m - Created task run 'extract_stocks-0' for task 'extract_stocks'\n"
            ],
            "text/html": [
              "<pre style=\"white-space:pre;overflow-x:auto;line-height:normal;font-family:Menlo,'DejaVu Sans Mono',consolas,'Courier New',monospace\">20:53:56.525 | <span style=\"color: #008080; text-decoration-color: #008080\">INFO</span>    | Flow run<span style=\"color: #800080; text-decoration-color: #800080\"> 'stirring-elk'</span> - Created task run 'extract_stocks-0' for task 'extract_stocks'\n",
              "</pre>\n"
            ]
          },
          "metadata": {}
        },
        {
          "output_type": "display_data",
          "data": {
            "text/plain": [
              "20:53:56.529 | \u001b[36mINFO\u001b[0m    | Flow run\u001b[35m 'stirring-elk'\u001b[0m - Executing 'extract_stocks-0' immediately...\n"
            ],
            "text/html": [
              "<pre style=\"white-space:pre;overflow-x:auto;line-height:normal;font-family:Menlo,'DejaVu Sans Mono',consolas,'Courier New',monospace\">20:53:56.529 | <span style=\"color: #008080; text-decoration-color: #008080\">INFO</span>    | Flow run<span style=\"color: #800080; text-decoration-color: #800080\"> 'stirring-elk'</span> - Executing 'extract_stocks-0' immediately...\n",
              "</pre>\n"
            ]
          },
          "metadata": {}
        },
        {
          "output_type": "display_data",
          "data": {
            "text/plain": [
              "20:53:56.877 | \u001b[36mINFO\u001b[0m    | Task run 'extract_stocks-0' - Finished in state \u001b[32mCompleted\u001b[0m()\n"
            ],
            "text/html": [
              "<pre style=\"white-space:pre;overflow-x:auto;line-height:normal;font-family:Menlo,'DejaVu Sans Mono',consolas,'Courier New',monospace\">20:53:56.877 | <span style=\"color: #008080; text-decoration-color: #008080\">INFO</span>    | Task run 'extract_stocks-0' - Finished in state <span style=\"color: #008000; text-decoration-color: #008000\">Completed</span>()\n",
              "</pre>\n"
            ]
          },
          "metadata": {}
        },
        {
          "output_type": "display_data",
          "data": {
            "text/plain": [
              "20:53:57.020 | \u001b[36mINFO\u001b[0m    | Flow run\u001b[35m 'stirring-elk'\u001b[0m - Created task run 'topn_stocks-0' for task 'topn_stocks'\n"
            ],
            "text/html": [
              "<pre style=\"white-space:pre;overflow-x:auto;line-height:normal;font-family:Menlo,'DejaVu Sans Mono',consolas,'Courier New',monospace\">20:53:57.020 | <span style=\"color: #008080; text-decoration-color: #008080\">INFO</span>    | Flow run<span style=\"color: #800080; text-decoration-color: #800080\"> 'stirring-elk'</span> - Created task run 'topn_stocks-0' for task 'topn_stocks'\n",
              "</pre>\n"
            ]
          },
          "metadata": {}
        },
        {
          "output_type": "display_data",
          "data": {
            "text/plain": [
              "20:53:57.026 | \u001b[36mINFO\u001b[0m    | Flow run\u001b[35m 'stirring-elk'\u001b[0m - Executing 'topn_stocks-0' immediately...\n"
            ],
            "text/html": [
              "<pre style=\"white-space:pre;overflow-x:auto;line-height:normal;font-family:Menlo,'DejaVu Sans Mono',consolas,'Courier New',monospace\">20:53:57.026 | <span style=\"color: #008080; text-decoration-color: #008080\">INFO</span>    | Flow run<span style=\"color: #800080; text-decoration-color: #800080\"> 'stirring-elk'</span> - Executing 'topn_stocks-0' immediately...\n",
              "</pre>\n"
            ]
          },
          "metadata": {}
        },
        {
          "output_type": "display_data",
          "data": {
            "text/plain": [
              "20:53:57.427 | \u001b[36mINFO\u001b[0m    | Task run 'topn_stocks-0' - Finished in state \u001b[32mCompleted\u001b[0m()\n"
            ],
            "text/html": [
              "<pre style=\"white-space:pre;overflow-x:auto;line-height:normal;font-family:Menlo,'DejaVu Sans Mono',consolas,'Courier New',monospace\">20:53:57.427 | <span style=\"color: #008080; text-decoration-color: #008080\">INFO</span>    | Task run 'topn_stocks-0' - Finished in state <span style=\"color: #008000; text-decoration-color: #008000\">Completed</span>()\n",
              "</pre>\n"
            ]
          },
          "metadata": {}
        },
        {
          "output_type": "display_data",
          "data": {
            "text/plain": [
              "20:53:57.611 | \u001b[36mINFO\u001b[0m    | Flow run\u001b[35m 'stirring-elk'\u001b[0m - Created task run 'add_labels-0' for task 'add_labels'\n"
            ],
            "text/html": [
              "<pre style=\"white-space:pre;overflow-x:auto;line-height:normal;font-family:Menlo,'DejaVu Sans Mono',consolas,'Courier New',monospace\">20:53:57.611 | <span style=\"color: #008080; text-decoration-color: #008080\">INFO</span>    | Flow run<span style=\"color: #800080; text-decoration-color: #800080\"> 'stirring-elk'</span> - Created task run 'add_labels-0' for task 'add_labels'\n",
              "</pre>\n"
            ]
          },
          "metadata": {}
        },
        {
          "output_type": "display_data",
          "data": {
            "text/plain": [
              "20:53:57.614 | \u001b[36mINFO\u001b[0m    | Flow run\u001b[35m 'stirring-elk'\u001b[0m - Executing 'add_labels-0' immediately...\n"
            ],
            "text/html": [
              "<pre style=\"white-space:pre;overflow-x:auto;line-height:normal;font-family:Menlo,'DejaVu Sans Mono',consolas,'Courier New',monospace\">20:53:57.614 | <span style=\"color: #008080; text-decoration-color: #008080\">INFO</span>    | Flow run<span style=\"color: #800080; text-decoration-color: #800080\"> 'stirring-elk'</span> - Executing 'add_labels-0' immediately...\n",
              "</pre>\n"
            ]
          },
          "metadata": {}
        },
        {
          "output_type": "display_data",
          "data": {
            "text/plain": [
              "20:53:57.929 | \u001b[36mINFO\u001b[0m    | Task run 'add_labels-0' - Finished in state \u001b[32mCompleted\u001b[0m()\n"
            ],
            "text/html": [
              "<pre style=\"white-space:pre;overflow-x:auto;line-height:normal;font-family:Menlo,'DejaVu Sans Mono',consolas,'Courier New',monospace\">20:53:57.929 | <span style=\"color: #008080; text-decoration-color: #008080\">INFO</span>    | Task run 'add_labels-0' - Finished in state <span style=\"color: #008000; text-decoration-color: #008000\">Completed</span>()\n",
              "</pre>\n"
            ]
          },
          "metadata": {}
        },
        {
          "output_type": "display_data",
          "data": {
            "text/plain": [
              "20:53:58.303 | \u001b[36mINFO\u001b[0m    | Flow run\u001b[35m 'stirring-elk'\u001b[0m - Created task run 'add_labels-1' for task 'add_labels'\n"
            ],
            "text/html": [
              "<pre style=\"white-space:pre;overflow-x:auto;line-height:normal;font-family:Menlo,'DejaVu Sans Mono',consolas,'Courier New',monospace\">20:53:58.303 | <span style=\"color: #008080; text-decoration-color: #008080\">INFO</span>    | Flow run<span style=\"color: #800080; text-decoration-color: #800080\"> 'stirring-elk'</span> - Created task run 'add_labels-1' for task 'add_labels'\n",
              "</pre>\n"
            ]
          },
          "metadata": {}
        },
        {
          "output_type": "display_data",
          "data": {
            "text/plain": [
              "20:53:58.307 | \u001b[36mINFO\u001b[0m    | Flow run\u001b[35m 'stirring-elk'\u001b[0m - Executing 'add_labels-1' immediately...\n"
            ],
            "text/html": [
              "<pre style=\"white-space:pre;overflow-x:auto;line-height:normal;font-family:Menlo,'DejaVu Sans Mono',consolas,'Courier New',monospace\">20:53:58.307 | <span style=\"color: #008080; text-decoration-color: #008080\">INFO</span>    | Flow run<span style=\"color: #800080; text-decoration-color: #800080\"> 'stirring-elk'</span> - Executing 'add_labels-1' immediately...\n",
              "</pre>\n"
            ]
          },
          "metadata": {}
        },
        {
          "output_type": "display_data",
          "data": {
            "text/plain": [
              "20:53:58.595 | \u001b[36mINFO\u001b[0m    | Task run 'add_labels-1' - Finished in state \u001b[32mCompleted\u001b[0m()\n"
            ],
            "text/html": [
              "<pre style=\"white-space:pre;overflow-x:auto;line-height:normal;font-family:Menlo,'DejaVu Sans Mono',consolas,'Courier New',monospace\">20:53:58.595 | <span style=\"color: #008080; text-decoration-color: #008080\">INFO</span>    | Task run 'add_labels-1' - Finished in state <span style=\"color: #008000; text-decoration-color: #008000\">Completed</span>()\n",
              "</pre>\n"
            ]
          },
          "metadata": {}
        },
        {
          "output_type": "display_data",
          "data": {
            "text/plain": [
              "20:53:59.180 | \u001b[36mINFO\u001b[0m    | Flow run\u001b[35m 'stirring-elk'\u001b[0m - Created task run 'extract_indices-0' for task 'extract_indices'\n"
            ],
            "text/html": [
              "<pre style=\"white-space:pre;overflow-x:auto;line-height:normal;font-family:Menlo,'DejaVu Sans Mono',consolas,'Courier New',monospace\">20:53:59.180 | <span style=\"color: #008080; text-decoration-color: #008080\">INFO</span>    | Flow run<span style=\"color: #800080; text-decoration-color: #800080\"> 'stirring-elk'</span> - Created task run 'extract_indices-0' for task 'extract_indices'\n",
              "</pre>\n"
            ]
          },
          "metadata": {}
        },
        {
          "output_type": "display_data",
          "data": {
            "text/plain": [
              "20:53:59.184 | \u001b[36mINFO\u001b[0m    | Flow run\u001b[35m 'stirring-elk'\u001b[0m - Executing 'extract_indices-0' immediately...\n"
            ],
            "text/html": [
              "<pre style=\"white-space:pre;overflow-x:auto;line-height:normal;font-family:Menlo,'DejaVu Sans Mono',consolas,'Courier New',monospace\">20:53:59.184 | <span style=\"color: #008080; text-decoration-color: #008080\">INFO</span>    | Flow run<span style=\"color: #800080; text-decoration-color: #800080\"> 'stirring-elk'</span> - Executing 'extract_indices-0' immediately...\n",
              "</pre>\n"
            ]
          },
          "metadata": {}
        },
        {
          "output_type": "display_data",
          "data": {
            "text/plain": [
              "20:53:59.460 | \u001b[36mINFO\u001b[0m    | Task run 'extract_indices-0' - Finished in state \u001b[32mCompleted\u001b[0m()\n"
            ],
            "text/html": [
              "<pre style=\"white-space:pre;overflow-x:auto;line-height:normal;font-family:Menlo,'DejaVu Sans Mono',consolas,'Courier New',monospace\">20:53:59.460 | <span style=\"color: #008080; text-decoration-color: #008080\">INFO</span>    | Task run 'extract_indices-0' - Finished in state <span style=\"color: #008000; text-decoration-color: #008000\">Completed</span>()\n",
              "</pre>\n"
            ]
          },
          "metadata": {}
        },
        {
          "output_type": "display_data",
          "data": {
            "text/plain": [
              "20:53:59.604 | \u001b[36mINFO\u001b[0m    | Flow run\u001b[35m 'stirring-elk'\u001b[0m - Created task run 'calculate_return-0' for task 'calculate_return'\n"
            ],
            "text/html": [
              "<pre style=\"white-space:pre;overflow-x:auto;line-height:normal;font-family:Menlo,'DejaVu Sans Mono',consolas,'Courier New',monospace\">20:53:59.604 | <span style=\"color: #008080; text-decoration-color: #008080\">INFO</span>    | Flow run<span style=\"color: #800080; text-decoration-color: #800080\"> 'stirring-elk'</span> - Created task run 'calculate_return-0' for task 'calculate_return'\n",
              "</pre>\n"
            ]
          },
          "metadata": {}
        },
        {
          "output_type": "display_data",
          "data": {
            "text/plain": [
              "20:53:59.608 | \u001b[36mINFO\u001b[0m    | Flow run\u001b[35m 'stirring-elk'\u001b[0m - Executing 'calculate_return-0' immediately...\n"
            ],
            "text/html": [
              "<pre style=\"white-space:pre;overflow-x:auto;line-height:normal;font-family:Menlo,'DejaVu Sans Mono',consolas,'Courier New',monospace\">20:53:59.608 | <span style=\"color: #008080; text-decoration-color: #008080\">INFO</span>    | Flow run<span style=\"color: #800080; text-decoration-color: #800080\"> 'stirring-elk'</span> - Executing 'calculate_return-0' immediately...\n",
              "</pre>\n"
            ]
          },
          "metadata": {}
        },
        {
          "output_type": "display_data",
          "data": {
            "text/plain": [
              "20:53:59.894 | \u001b[36mINFO\u001b[0m    | Task run 'calculate_return-0' - Finished in state \u001b[32mCompleted\u001b[0m()\n"
            ],
            "text/html": [
              "<pre style=\"white-space:pre;overflow-x:auto;line-height:normal;font-family:Menlo,'DejaVu Sans Mono',consolas,'Courier New',monospace\">20:53:59.894 | <span style=\"color: #008080; text-decoration-color: #008080\">INFO</span>    | Task run 'calculate_return-0' - Finished in state <span style=\"color: #008000; text-decoration-color: #008000\">Completed</span>()\n",
              "</pre>\n"
            ]
          },
          "metadata": {}
        },
        {
          "output_type": "display_data",
          "data": {
            "text/plain": [
              "20:54:00.031 | \u001b[36mINFO\u001b[0m    | Flow run\u001b[35m 'stirring-elk'\u001b[0m - Created task run 'visualize_returns-0' for task 'visualize_returns'\n"
            ],
            "text/html": [
              "<pre style=\"white-space:pre;overflow-x:auto;line-height:normal;font-family:Menlo,'DejaVu Sans Mono',consolas,'Courier New',monospace\">20:54:00.031 | <span style=\"color: #008080; text-decoration-color: #008080\">INFO</span>    | Flow run<span style=\"color: #800080; text-decoration-color: #800080\"> 'stirring-elk'</span> - Created task run 'visualize_returns-0' for task 'visualize_returns'\n",
              "</pre>\n"
            ]
          },
          "metadata": {}
        },
        {
          "output_type": "display_data",
          "data": {
            "text/plain": [
              "20:54:00.034 | \u001b[36mINFO\u001b[0m    | Flow run\u001b[35m 'stirring-elk'\u001b[0m - Executing 'visualize_returns-0' immediately...\n"
            ],
            "text/html": [
              "<pre style=\"white-space:pre;overflow-x:auto;line-height:normal;font-family:Menlo,'DejaVu Sans Mono',consolas,'Courier New',monospace\">20:54:00.034 | <span style=\"color: #008080; text-decoration-color: #008080\">INFO</span>    | Flow run<span style=\"color: #800080; text-decoration-color: #800080\"> 'stirring-elk'</span> - Executing 'visualize_returns-0' immediately...\n",
              "</pre>\n"
            ]
          },
          "metadata": {}
        },
        {
          "output_type": "display_data",
          "data": {
            "text/plain": [
              "20:54:00.695 | \u001b[36mINFO\u001b[0m    | Task run 'visualize_returns-0' - Finished in state \u001b[32mCompleted\u001b[0m()\n"
            ],
            "text/html": [
              "<pre style=\"white-space:pre;overflow-x:auto;line-height:normal;font-family:Menlo,'DejaVu Sans Mono',consolas,'Courier New',monospace\">20:54:00.695 | <span style=\"color: #008080; text-decoration-color: #008080\">INFO</span>    | Task run 'visualize_returns-0' - Finished in state <span style=\"color: #008000; text-decoration-color: #008000\">Completed</span>()\n",
              "</pre>\n"
            ]
          },
          "metadata": {}
        },
        {
          "output_type": "display_data",
          "data": {
            "text/plain": [
              "20:54:00.835 | \u001b[36mINFO\u001b[0m    | Flow run\u001b[35m 'stirring-elk'\u001b[0m - Created task run 'visualize_volume-0' for task 'visualize_volume'\n"
            ],
            "text/html": [
              "<pre style=\"white-space:pre;overflow-x:auto;line-height:normal;font-family:Menlo,'DejaVu Sans Mono',consolas,'Courier New',monospace\">20:54:00.835 | <span style=\"color: #008080; text-decoration-color: #008080\">INFO</span>    | Flow run<span style=\"color: #800080; text-decoration-color: #800080\"> 'stirring-elk'</span> - Created task run 'visualize_volume-0' for task 'visualize_volume'\n",
              "</pre>\n"
            ]
          },
          "metadata": {}
        },
        {
          "output_type": "display_data",
          "data": {
            "text/plain": [
              "20:54:00.838 | \u001b[36mINFO\u001b[0m    | Flow run\u001b[35m 'stirring-elk'\u001b[0m - Executing 'visualize_volume-0' immediately...\n"
            ],
            "text/html": [
              "<pre style=\"white-space:pre;overflow-x:auto;line-height:normal;font-family:Menlo,'DejaVu Sans Mono',consolas,'Courier New',monospace\">20:54:00.838 | <span style=\"color: #008080; text-decoration-color: #008080\">INFO</span>    | Flow run<span style=\"color: #800080; text-decoration-color: #800080\"> 'stirring-elk'</span> - Executing 'visualize_volume-0' immediately...\n",
              "</pre>\n"
            ]
          },
          "metadata": {}
        },
        {
          "output_type": "display_data",
          "data": {
            "text/plain": [
              "20:54:01.402 | \u001b[36mINFO\u001b[0m    | Task run 'visualize_volume-0' - Finished in state \u001b[32mCompleted\u001b[0m()\n"
            ],
            "text/html": [
              "<pre style=\"white-space:pre;overflow-x:auto;line-height:normal;font-family:Menlo,'DejaVu Sans Mono',consolas,'Courier New',monospace\">20:54:01.402 | <span style=\"color: #008080; text-decoration-color: #008080\">INFO</span>    | Task run 'visualize_volume-0' - Finished in state <span style=\"color: #008000; text-decoration-color: #008000\">Completed</span>()\n",
              "</pre>\n"
            ]
          },
          "metadata": {}
        },
        {
          "output_type": "display_data",
          "data": {
            "text/plain": [
              "20:54:01.549 | \u001b[36mINFO\u001b[0m    | Flow run\u001b[35m 'stirring-elk'\u001b[0m - Created task run 'load_into_report-0' for task 'load_into_report'\n"
            ],
            "text/html": [
              "<pre style=\"white-space:pre;overflow-x:auto;line-height:normal;font-family:Menlo,'DejaVu Sans Mono',consolas,'Courier New',monospace\">20:54:01.549 | <span style=\"color: #008080; text-decoration-color: #008080\">INFO</span>    | Flow run<span style=\"color: #800080; text-decoration-color: #800080\"> 'stirring-elk'</span> - Created task run 'load_into_report-0' for task 'load_into_report'\n",
              "</pre>\n"
            ]
          },
          "metadata": {}
        },
        {
          "output_type": "display_data",
          "data": {
            "text/plain": [
              "20:54:01.553 | \u001b[36mINFO\u001b[0m    | Flow run\u001b[35m 'stirring-elk'\u001b[0m - Executing 'load_into_report-0' immediately...\n"
            ],
            "text/html": [
              "<pre style=\"white-space:pre;overflow-x:auto;line-height:normal;font-family:Menlo,'DejaVu Sans Mono',consolas,'Courier New',monospace\">20:54:01.553 | <span style=\"color: #008080; text-decoration-color: #008080\">INFO</span>    | Flow run<span style=\"color: #800080; text-decoration-color: #800080\"> 'stirring-elk'</span> - Executing 'load_into_report-0' immediately...\n",
              "</pre>\n"
            ]
          },
          "metadata": {}
        },
        {
          "output_type": "display_data",
          "data": {
            "text/plain": [
              "20:54:01.893 | \u001b[36mINFO\u001b[0m    | Task run 'load_into_report-0' - Created task run 'save_image_base64-0' for task 'save_image_base64'\n"
            ],
            "text/html": [
              "<pre style=\"white-space:pre;overflow-x:auto;line-height:normal;font-family:Menlo,'DejaVu Sans Mono',consolas,'Courier New',monospace\">20:54:01.893 | <span style=\"color: #008080; text-decoration-color: #008080\">INFO</span>    | Task run 'load_into_report-0' - Created task run 'save_image_base64-0' for task 'save_image_base64'\n",
              "</pre>\n"
            ]
          },
          "metadata": {}
        },
        {
          "output_type": "display_data",
          "data": {
            "text/plain": [
              "20:54:01.896 | \u001b[36mINFO\u001b[0m    | Task run 'load_into_report-0' - Executing 'save_image_base64-0' immediately...\n"
            ],
            "text/html": [
              "<pre style=\"white-space:pre;overflow-x:auto;line-height:normal;font-family:Menlo,'DejaVu Sans Mono',consolas,'Courier New',monospace\">20:54:01.896 | <span style=\"color: #008080; text-decoration-color: #008080\">INFO</span>    | Task run 'load_into_report-0' - Executing 'save_image_base64-0' immediately...\n",
              "</pre>\n"
            ]
          },
          "metadata": {}
        },
        {
          "output_type": "display_data",
          "data": {
            "text/plain": [
              "20:54:02.180 | \u001b[36mINFO\u001b[0m    | Task run 'save_image_base64-0' - Finished in state \u001b[32mCompleted\u001b[0m()\n"
            ],
            "text/html": [
              "<pre style=\"white-space:pre;overflow-x:auto;line-height:normal;font-family:Menlo,'DejaVu Sans Mono',consolas,'Courier New',monospace\">20:54:02.180 | <span style=\"color: #008080; text-decoration-color: #008080\">INFO</span>    | Task run 'save_image_base64-0' - Finished in state <span style=\"color: #008000; text-decoration-color: #008000\">Completed</span>()\n",
              "</pre>\n"
            ]
          },
          "metadata": {}
        },
        {
          "output_type": "display_data",
          "data": {
            "text/plain": [
              "20:54:02.313 | \u001b[36mINFO\u001b[0m    | Task run 'load_into_report-0' - Created task run 'save_image_base64-1' for task 'save_image_base64'\n"
            ],
            "text/html": [
              "<pre style=\"white-space:pre;overflow-x:auto;line-height:normal;font-family:Menlo,'DejaVu Sans Mono',consolas,'Courier New',monospace\">20:54:02.313 | <span style=\"color: #008080; text-decoration-color: #008080\">INFO</span>    | Task run 'load_into_report-0' - Created task run 'save_image_base64-1' for task 'save_image_base64'\n",
              "</pre>\n"
            ]
          },
          "metadata": {}
        },
        {
          "output_type": "display_data",
          "data": {
            "text/plain": [
              "20:54:02.317 | \u001b[36mINFO\u001b[0m    | Task run 'load_into_report-0' - Executing 'save_image_base64-1' immediately...\n"
            ],
            "text/html": [
              "<pre style=\"white-space:pre;overflow-x:auto;line-height:normal;font-family:Menlo,'DejaVu Sans Mono',consolas,'Courier New',monospace\">20:54:02.317 | <span style=\"color: #008080; text-decoration-color: #008080\">INFO</span>    | Task run 'load_into_report-0' - Executing 'save_image_base64-1' immediately...\n",
              "</pre>\n"
            ]
          },
          "metadata": {}
        },
        {
          "output_type": "display_data",
          "data": {
            "text/plain": [
              "20:54:02.613 | \u001b[36mINFO\u001b[0m    | Task run 'save_image_base64-1' - Finished in state \u001b[32mCompleted\u001b[0m()\n"
            ],
            "text/html": [
              "<pre style=\"white-space:pre;overflow-x:auto;line-height:normal;font-family:Menlo,'DejaVu Sans Mono',consolas,'Courier New',monospace\">20:54:02.613 | <span style=\"color: #008080; text-decoration-color: #008080\">INFO</span>    | Task run 'save_image_base64-1' - Finished in state <span style=\"color: #008000; text-decoration-color: #008000\">Completed</span>()\n",
              "</pre>\n"
            ]
          },
          "metadata": {}
        },
        {
          "output_type": "display_data",
          "data": {
            "text/plain": [
              "20:54:02.750 | \u001b[36mINFO\u001b[0m    | Task run 'load_into_report-0' - Created task run 'save_image_base64-2' for task 'save_image_base64'\n"
            ],
            "text/html": [
              "<pre style=\"white-space:pre;overflow-x:auto;line-height:normal;font-family:Menlo,'DejaVu Sans Mono',consolas,'Courier New',monospace\">20:54:02.750 | <span style=\"color: #008080; text-decoration-color: #008080\">INFO</span>    | Task run 'load_into_report-0' - Created task run 'save_image_base64-2' for task 'save_image_base64'\n",
              "</pre>\n"
            ]
          },
          "metadata": {}
        },
        {
          "output_type": "display_data",
          "data": {
            "text/plain": [
              "20:54:02.753 | \u001b[36mINFO\u001b[0m    | Task run 'load_into_report-0' - Executing 'save_image_base64-2' immediately...\n"
            ],
            "text/html": [
              "<pre style=\"white-space:pre;overflow-x:auto;line-height:normal;font-family:Menlo,'DejaVu Sans Mono',consolas,'Courier New',monospace\">20:54:02.753 | <span style=\"color: #008080; text-decoration-color: #008080\">INFO</span>    | Task run 'load_into_report-0' - Executing 'save_image_base64-2' immediately...\n",
              "</pre>\n"
            ]
          },
          "metadata": {}
        },
        {
          "output_type": "display_data",
          "data": {
            "text/plain": [
              "20:54:03.053 | \u001b[36mINFO\u001b[0m    | Task run 'save_image_base64-2' - Finished in state \u001b[32mCompleted\u001b[0m()\n"
            ],
            "text/html": [
              "<pre style=\"white-space:pre;overflow-x:auto;line-height:normal;font-family:Menlo,'DejaVu Sans Mono',consolas,'Courier New',monospace\">20:54:03.053 | <span style=\"color: #008080; text-decoration-color: #008080\">INFO</span>    | Task run 'save_image_base64-2' - Finished in state <span style=\"color: #008000; text-decoration-color: #008000\">Completed</span>()\n",
              "</pre>\n"
            ]
          },
          "metadata": {}
        },
        {
          "output_type": "display_data",
          "data": {
            "text/plain": [
              "20:54:03.227 | \u001b[36mINFO\u001b[0m    | Task run 'load_into_report-0' - Created task run 'save_image_base64-3' for task 'save_image_base64'\n"
            ],
            "text/html": [
              "<pre style=\"white-space:pre;overflow-x:auto;line-height:normal;font-family:Menlo,'DejaVu Sans Mono',consolas,'Courier New',monospace\">20:54:03.227 | <span style=\"color: #008080; text-decoration-color: #008080\">INFO</span>    | Task run 'load_into_report-0' - Created task run 'save_image_base64-3' for task 'save_image_base64'\n",
              "</pre>\n"
            ]
          },
          "metadata": {}
        },
        {
          "output_type": "display_data",
          "data": {
            "text/plain": [
              "20:54:03.232 | \u001b[36mINFO\u001b[0m    | Task run 'load_into_report-0' - Executing 'save_image_base64-3' immediately...\n"
            ],
            "text/html": [
              "<pre style=\"white-space:pre;overflow-x:auto;line-height:normal;font-family:Menlo,'DejaVu Sans Mono',consolas,'Courier New',monospace\">20:54:03.232 | <span style=\"color: #008080; text-decoration-color: #008080\">INFO</span>    | Task run 'load_into_report-0' - Executing 'save_image_base64-3' immediately...\n",
              "</pre>\n"
            ]
          },
          "metadata": {}
        },
        {
          "output_type": "display_data",
          "data": {
            "text/plain": [
              "20:54:03.587 | \u001b[36mINFO\u001b[0m    | Task run 'save_image_base64-3' - Finished in state \u001b[32mCompleted\u001b[0m()\n"
            ],
            "text/html": [
              "<pre style=\"white-space:pre;overflow-x:auto;line-height:normal;font-family:Menlo,'DejaVu Sans Mono',consolas,'Courier New',monospace\">20:54:03.587 | <span style=\"color: #008080; text-decoration-color: #008080\">INFO</span>    | Task run 'save_image_base64-3' - Finished in state <span style=\"color: #008000; text-decoration-color: #008000\">Completed</span>()\n",
              "</pre>\n"
            ]
          },
          "metadata": {}
        },
        {
          "output_type": "display_data",
          "data": {
            "text/plain": [
              "20:54:03.774 | \u001b[36mINFO\u001b[0m    | Task run 'load_into_report-0' - Created task run 'save_image_base64-4' for task 'save_image_base64'\n"
            ],
            "text/html": [
              "<pre style=\"white-space:pre;overflow-x:auto;line-height:normal;font-family:Menlo,'DejaVu Sans Mono',consolas,'Courier New',monospace\">20:54:03.774 | <span style=\"color: #008080; text-decoration-color: #008080\">INFO</span>    | Task run 'load_into_report-0' - Created task run 'save_image_base64-4' for task 'save_image_base64'\n",
              "</pre>\n"
            ]
          },
          "metadata": {}
        },
        {
          "output_type": "display_data",
          "data": {
            "text/plain": [
              "20:54:03.778 | \u001b[36mINFO\u001b[0m    | Task run 'load_into_report-0' - Executing 'save_image_base64-4' immediately...\n"
            ],
            "text/html": [
              "<pre style=\"white-space:pre;overflow-x:auto;line-height:normal;font-family:Menlo,'DejaVu Sans Mono',consolas,'Courier New',monospace\">20:54:03.778 | <span style=\"color: #008080; text-decoration-color: #008080\">INFO</span>    | Task run 'load_into_report-0' - Executing 'save_image_base64-4' immediately...\n",
              "</pre>\n"
            ]
          },
          "metadata": {}
        },
        {
          "output_type": "display_data",
          "data": {
            "text/plain": [
              "20:54:04.216 | \u001b[36mINFO\u001b[0m    | Task run 'save_image_base64-4' - Finished in state \u001b[32mCompleted\u001b[0m()\n"
            ],
            "text/html": [
              "<pre style=\"white-space:pre;overflow-x:auto;line-height:normal;font-family:Menlo,'DejaVu Sans Mono',consolas,'Courier New',monospace\">20:54:04.216 | <span style=\"color: #008080; text-decoration-color: #008080\">INFO</span>    | Task run 'save_image_base64-4' - Finished in state <span style=\"color: #008000; text-decoration-color: #008000\">Completed</span>()\n",
              "</pre>\n"
            ]
          },
          "metadata": {}
        },
        {
          "output_type": "display_data",
          "data": {
            "text/plain": [
              "20:54:04.682 | \u001b[36mINFO\u001b[0m    | Task run 'load_into_report-0' - Finished in state \u001b[32mCompleted\u001b[0m()\n"
            ],
            "text/html": [
              "<pre style=\"white-space:pre;overflow-x:auto;line-height:normal;font-family:Menlo,'DejaVu Sans Mono',consolas,'Courier New',monospace\">20:54:04.682 | <span style=\"color: #008080; text-decoration-color: #008080\">INFO</span>    | Task run 'load_into_report-0' - Finished in state <span style=\"color: #008000; text-decoration-color: #008000\">Completed</span>()\n",
              "</pre>\n"
            ]
          },
          "metadata": {}
        },
        {
          "output_type": "display_data",
          "data": {
            "text/plain": [
              "20:54:04.875 | \u001b[36mINFO\u001b[0m    | Flow run\u001b[35m 'stirring-elk'\u001b[0m - Finished in state \u001b[32mCompleted\u001b[0m('All states completed.')\n"
            ],
            "text/html": [
              "<pre style=\"white-space:pre;overflow-x:auto;line-height:normal;font-family:Menlo,'DejaVu Sans Mono',consolas,'Courier New',monospace\">20:54:04.875 | <span style=\"color: #008080; text-decoration-color: #008080\">INFO</span>    | Flow run<span style=\"color: #800080; text-decoration-color: #800080\"> 'stirring-elk'</span> - Finished in state <span style=\"color: #008000; text-decoration-color: #008000\">Completed</span>('All states completed.')\n",
              "</pre>\n"
            ]
          },
          "metadata": {}
        },
        {
          "output_type": "display_data",
          "data": {
            "text/plain": [
              "\u001b[32mYour flow \u001b[0m\u001b[32m'generate-report'\u001b[0m\u001b[32m is being served and polling for scheduled runs!\u001b[0m\n",
              "\n",
              "To trigger a run for this flow, use the following command:\n",
              "\n",
              "\u001b[34m        \u001b[0m\u001b[34m$ prefect deployment run \u001b[0m\u001b[34m'generate-report/report-deployment'\u001b[0m\n",
              "\n",
              "You can also run your flow via the Prefect UI: \u001b[4;34mhttps://app.prefect.cloud/account/653e4ddd-190d-458f-8d15-a805d74582fd/workspace/0fcb490f-3873-41a3-bf9b-272ee4f0d89b/deployments/deployment/fe933619-26c7-4a8f-b3f4-4d9c6645cd6a\u001b[0m\n",
              "\n"
            ],
            "text/html": [
              "<pre style=\"white-space:pre;overflow-x:auto;line-height:normal;font-family:Menlo,'DejaVu Sans Mono',consolas,'Courier New',monospace\"><span style=\"color: #008000; text-decoration-color: #008000\">Your flow </span><span style=\"color: #008000; text-decoration-color: #008000\">'generate-report'</span><span style=\"color: #008000; text-decoration-color: #008000\"> is being served and polling for scheduled runs!</span>\n",
              "\n",
              "To trigger a run for this flow, use the following command:\n",
              "\n",
              "<span style=\"color: #000080; text-decoration-color: #000080\">        $ prefect deployment run </span><span style=\"color: #000080; text-decoration-color: #000080\">'generate-report/report-deployment'</span>\n",
              "\n",
              "You can also run your flow via the Prefect UI: <span style=\"color: #000080; text-decoration-color: #000080; text-decoration: underline\">https://app.prefect.cloud/account/653e4ddd-190d-458f-8d15-a805d74582fd/workspace/0fcb490f-3873-41a3-bf9b-272ee4f0d89b/deployments/deployment/fe933619-26c7-4a8f-b3f4-4d9c6645cd6a</span>\n",
              "\n",
              "</pre>\n"
            ]
          },
          "metadata": {}
        },
        {
          "output_type": "display_data",
          "data": {
            "text/plain": [
              "20:54:07.414 | \u001b[36mINFO\u001b[0m    | prefect.flow_runs.runner - Runner 'report-deployment' submitting flow run\u001b[35m '7b0f83f9-a5f9-47ac-b293-eedf992a5023'\u001b[0m\n"
            ],
            "text/html": [
              "<pre style=\"white-space:pre;overflow-x:auto;line-height:normal;font-family:Menlo,'DejaVu Sans Mono',consolas,'Courier New',monospace\">20:54:07.414 | <span style=\"color: #008080; text-decoration-color: #008080\">INFO</span>    | prefect.flow_runs.runner - Runner 'report-deployment' submitting flow run<span style=\"color: #800080; text-decoration-color: #800080\"> '7b0f83f9-a5f9-47ac-b293-eedf992a5023'</span>\n",
              "</pre>\n"
            ]
          },
          "metadata": {}
        },
        {
          "output_type": "display_data",
          "data": {
            "text/plain": [
              "20:54:07.564 | \u001b[36mINFO\u001b[0m    | prefect.flow_runs.runner - Opening process...\n"
            ],
            "text/html": [
              "<pre style=\"white-space:pre;overflow-x:auto;line-height:normal;font-family:Menlo,'DejaVu Sans Mono',consolas,'Courier New',monospace\">20:54:07.564 | <span style=\"color: #008080; text-decoration-color: #008080\">INFO</span>    | prefect.flow_runs.runner - Opening process...\n",
              "</pre>\n"
            ]
          },
          "metadata": {}
        },
        {
          "output_type": "display_data",
          "data": {
            "text/plain": [
              "20:54:07.575 | \u001b[36mINFO\u001b[0m    | prefect.flow_runs.runner - \u001b[32mCompleted\u001b[0m submission of flow run\u001b[35m '7b0f83f9-a5f9-47ac-b293-eedf992a5023'\u001b[0m\n"
            ],
            "text/html": [
              "<pre style=\"white-space:pre;overflow-x:auto;line-height:normal;font-family:Menlo,'DejaVu Sans Mono',consolas,'Courier New',monospace\">20:54:07.575 | <span style=\"color: #008080; text-decoration-color: #008080\">INFO</span>    | prefect.flow_runs.runner - <span style=\"color: #008000; text-decoration-color: #008000\">Completed</span> submission of flow run<span style=\"color: #800080; text-decoration-color: #800080\"> '7b0f83f9-a5f9-47ac-b293-eedf992a5023'</span>\n",
              "</pre>\n"
            ]
          },
          "metadata": {}
        },
        {
          "output_type": "stream",
          "name": "stderr",
          "text": [
            "/usr/lib/python3.10/runpy.py:126: RuntimeWarning: 'prefect.engine' found in sys.modules after import of package 'prefect', but prior to execution of 'prefect.engine'; this may result in unpredictable behaviour\n",
            "  warn(RuntimeWarning(msg))\n",
            "20:54:11.240 | INFO    | Flow run 'fuzzy-goose' - Downloading flow code from storage at '.'\n",
            "20:54:12.521 | WARNING | prefect.engine - Script loading is in progress, flow 'generate-report' will not be executed. Consider updating the script to only call the flow if executed directly:\n",
            "\n",
            "        if __name__ == \"__main__\":\n",
            "                generate_report()\n",
            "20:54:12.741 | INFO    | Flow run 'fuzzy-goose' - Created task run 'extract_stocks-0' for task 'extract_stocks'\n",
            "20:54:12.743 | INFO    | Flow run 'fuzzy-goose' - Executing 'extract_stocks-0' immediately...\n",
            "20:54:13.066 | INFO    | Task run 'extract_stocks-0' - Finished in state Completed()\n",
            "20:54:13.204 | INFO    | Flow run 'fuzzy-goose' - Created task run 'topn_stocks-0' for task 'topn_stocks'\n",
            "20:54:13.205 | INFO    | Flow run 'fuzzy-goose' - Executing 'topn_stocks-0' immediately...\n",
            "20:54:13.533 | INFO    | Task run 'topn_stocks-0' - Finished in state Completed()\n",
            "20:54:13.962 | INFO    | Flow run 'fuzzy-goose' - Created task run 'add_labels-0' for task 'add_labels'\n",
            "20:54:13.964 | INFO    | Flow run 'fuzzy-goose' - Executing 'add_labels-0' immediately...\n",
            "20:54:14.235 | INFO    | Task run 'add_labels-0' - Finished in state Completed()\n",
            "20:54:14.588 | INFO    | Flow run 'fuzzy-goose' - Created task run 'add_labels-1' for task 'add_labels'\n",
            "20:54:14.590 | INFO    | Flow run 'fuzzy-goose' - Executing 'add_labels-1' immediately...\n",
            "20:54:14.872 | INFO    | Task run 'add_labels-1' - Finished in state Completed()\n",
            "20:54:15.465 | INFO    | Flow run 'fuzzy-goose' - Created task run 'extract_indices-0' for task 'extract_indices'\n",
            "20:54:15.467 | INFO    | Flow run 'fuzzy-goose' - Executing 'extract_indices-0' immediately...\n",
            "20:54:15.792 | INFO    | Task run 'extract_indices-0' - Finished in state Completed()\n",
            "20:54:15.963 | INFO    | Flow run 'fuzzy-goose' - Created task run 'calculate_return-0' for task 'calculate_return'\n",
            "20:54:15.965 | INFO    | Flow run 'fuzzy-goose' - Executing 'calculate_return-0' immediately...\n",
            "20:54:16.386 | INFO    | Task run 'calculate_return-0' - Finished in state Completed()\n",
            "20:54:16.564 | INFO    | Flow run 'fuzzy-goose' - Created task run 'visualize_returns-0' for task 'visualize_returns'\n",
            "20:54:16.566 | INFO    | Flow run 'fuzzy-goose' - Executing 'visualize_returns-0' immediately...\n",
            "20:54:17.205 | ERROR   | Task run 'visualize_returns-0' - Crash detected! Execution was cancelled by the runtime environment.\n"
          ]
        },
        {
          "output_type": "error",
          "ename": "KeyboardInterrupt",
          "evalue": "",
          "traceback": [
            "\u001b[0;31m---------------------------------------------------------------------------\u001b[0m",
            "\u001b[0;31mKeyboardInterrupt\u001b[0m                         Traceback (most recent call last)",
            "\u001b[0;32m/content/market_report_flow.py\u001b[0m in \u001b[0;36m<module>\u001b[0;34m\u001b[0m\n\u001b[1;32m    201\u001b[0m \u001b[0;34m\u001b[0m\u001b[0m\n\u001b[1;32m    202\u001b[0m \u001b[0;32mif\u001b[0m \u001b[0m__name__\u001b[0m \u001b[0;34m==\u001b[0m \u001b[0;34m\"__main__\"\u001b[0m\u001b[0;34m:\u001b[0m\u001b[0;34m\u001b[0m\u001b[0;34m\u001b[0m\u001b[0m\n\u001b[0;32m--> 203\u001b[0;31m     generate_report.serve(name=\"report-deployment\",\n\u001b[0m\u001b[1;32m    204\u001b[0m                           \u001b[0mtags\u001b[0m\u001b[0;34m=\u001b[0m\u001b[0;34m[\u001b[0m\u001b[0;34m\"onboarding\"\u001b[0m\u001b[0;34m]\u001b[0m\u001b[0;34m,\u001b[0m\u001b[0;34m\u001b[0m\u001b[0;34m\u001b[0m\u001b[0m\n\u001b[1;32m    205\u001b[0m                           \u001b[0mparameters\u001b[0m\u001b[0;34m=\u001b[0m\u001b[0;34m{\u001b[0m\u001b[0;34m}\u001b[0m\u001b[0;34m,\u001b[0m\u001b[0;34m\u001b[0m\u001b[0;34m\u001b[0m\u001b[0m\n",
            "\u001b[0;32m/usr/local/lib/python3.10/dist-packages/prefect/utilities/asyncutils.py\u001b[0m in \u001b[0;36mcoroutine_wrapper\u001b[0;34m(*args, **kwargs)\u001b[0m\n\u001b[1;32m    293\u001b[0m             return from_sync.call_soon_in_loop_thread(\n\u001b[1;32m    294\u001b[0m                 \u001b[0mcreate_call\u001b[0m\u001b[0;34m(\u001b[0m\u001b[0masync_fn\u001b[0m\u001b[0;34m,\u001b[0m \u001b[0;34m*\u001b[0m\u001b[0margs\u001b[0m\u001b[0;34m,\u001b[0m \u001b[0;34m**\u001b[0m\u001b[0mkwargs\u001b[0m\u001b[0;34m)\u001b[0m\u001b[0;34m\u001b[0m\u001b[0;34m\u001b[0m\u001b[0m\n\u001b[0;32m--> 295\u001b[0;31m             ).result()\n\u001b[0m\u001b[1;32m    296\u001b[0m         \u001b[0;32melse\u001b[0m\u001b[0;34m:\u001b[0m\u001b[0;34m\u001b[0m\u001b[0;34m\u001b[0m\u001b[0m\n\u001b[1;32m    297\u001b[0m             \u001b[0mlogger\u001b[0m\u001b[0;34m.\u001b[0m\u001b[0mdebug\u001b[0m\u001b[0;34m(\u001b[0m\u001b[0;34mf\"{async_fn} --> run async in new loop\"\u001b[0m\u001b[0;34m)\u001b[0m\u001b[0;34m\u001b[0m\u001b[0;34m\u001b[0m\u001b[0m\n",
            "\u001b[0;32m/usr/local/lib/python3.10/dist-packages/prefect/_internal/concurrency/calls.py\u001b[0m in \u001b[0;36mresult\u001b[0;34m(self, timeout)\u001b[0m\n\u001b[1;32m    316\u001b[0m         \u001b[0mNot\u001b[0m \u001b[0msafe\u001b[0m \u001b[0;32mfor\u001b[0m \u001b[0muse\u001b[0m \u001b[0;32mfrom\u001b[0m \u001b[0masynchronous\u001b[0m \u001b[0mcontexts\u001b[0m\u001b[0;34m.\u001b[0m\u001b[0;34m\u001b[0m\u001b[0;34m\u001b[0m\u001b[0m\n\u001b[1;32m    317\u001b[0m         \"\"\"\n\u001b[0;32m--> 318\u001b[0;31m         \u001b[0;32mreturn\u001b[0m \u001b[0mself\u001b[0m\u001b[0;34m.\u001b[0m\u001b[0mfuture\u001b[0m\u001b[0;34m.\u001b[0m\u001b[0mresult\u001b[0m\u001b[0;34m(\u001b[0m\u001b[0mtimeout\u001b[0m\u001b[0;34m=\u001b[0m\u001b[0mtimeout\u001b[0m\u001b[0;34m)\u001b[0m\u001b[0;34m\u001b[0m\u001b[0;34m\u001b[0m\u001b[0m\n\u001b[0m\u001b[1;32m    319\u001b[0m \u001b[0;34m\u001b[0m\u001b[0m\n\u001b[1;32m    320\u001b[0m     \u001b[0;32masync\u001b[0m \u001b[0;32mdef\u001b[0m \u001b[0maresult\u001b[0m\u001b[0;34m(\u001b[0m\u001b[0mself\u001b[0m\u001b[0;34m)\u001b[0m\u001b[0;34m:\u001b[0m\u001b[0;34m\u001b[0m\u001b[0;34m\u001b[0m\u001b[0m\n",
            "\u001b[0;32m/usr/local/lib/python3.10/dist-packages/prefect/_internal/concurrency/calls.py\u001b[0m in \u001b[0;36mresult\u001b[0;34m(self, timeout)\u001b[0m\n\u001b[1;32m    179\u001b[0m                     \u001b[0;32mreturn\u001b[0m \u001b[0mself\u001b[0m\u001b[0;34m.\u001b[0m\u001b[0m__get_result\u001b[0m\u001b[0;34m(\u001b[0m\u001b[0;34m)\u001b[0m\u001b[0;34m\u001b[0m\u001b[0;34m\u001b[0m\u001b[0m\n\u001b[1;32m    180\u001b[0m \u001b[0;34m\u001b[0m\u001b[0m\n\u001b[0;32m--> 181\u001b[0;31m                 \u001b[0mself\u001b[0m\u001b[0;34m.\u001b[0m\u001b[0m_condition\u001b[0m\u001b[0;34m.\u001b[0m\u001b[0mwait\u001b[0m\u001b[0;34m(\u001b[0m\u001b[0mtimeout\u001b[0m\u001b[0;34m)\u001b[0m\u001b[0;34m\u001b[0m\u001b[0;34m\u001b[0m\u001b[0m\n\u001b[0m\u001b[1;32m    182\u001b[0m \u001b[0;34m\u001b[0m\u001b[0m\n\u001b[1;32m    183\u001b[0m                 \u001b[0;32mif\u001b[0m \u001b[0mself\u001b[0m\u001b[0;34m.\u001b[0m\u001b[0m_state\u001b[0m \u001b[0;32min\u001b[0m \u001b[0;34m[\u001b[0m\u001b[0mCANCELLED\u001b[0m\u001b[0;34m,\u001b[0m \u001b[0mCANCELLED_AND_NOTIFIED\u001b[0m\u001b[0;34m]\u001b[0m\u001b[0;34m:\u001b[0m\u001b[0;34m\u001b[0m\u001b[0;34m\u001b[0m\u001b[0m\n",
            "\u001b[0;32m/usr/lib/python3.10/threading.py\u001b[0m in \u001b[0;36mwait\u001b[0;34m(self, timeout)\u001b[0m\n\u001b[1;32m    318\u001b[0m         \u001b[0;32mtry\u001b[0m\u001b[0;34m:\u001b[0m    \u001b[0;31m# restore state no matter what (e.g., KeyboardInterrupt)\u001b[0m\u001b[0;34m\u001b[0m\u001b[0;34m\u001b[0m\u001b[0m\n\u001b[1;32m    319\u001b[0m             \u001b[0;32mif\u001b[0m \u001b[0mtimeout\u001b[0m \u001b[0;32mis\u001b[0m \u001b[0;32mNone\u001b[0m\u001b[0;34m:\u001b[0m\u001b[0;34m\u001b[0m\u001b[0;34m\u001b[0m\u001b[0m\n\u001b[0;32m--> 320\u001b[0;31m                 \u001b[0mwaiter\u001b[0m\u001b[0;34m.\u001b[0m\u001b[0macquire\u001b[0m\u001b[0;34m(\u001b[0m\u001b[0;34m)\u001b[0m\u001b[0;34m\u001b[0m\u001b[0;34m\u001b[0m\u001b[0m\n\u001b[0m\u001b[1;32m    321\u001b[0m                 \u001b[0mgotit\u001b[0m \u001b[0;34m=\u001b[0m \u001b[0;32mTrue\u001b[0m\u001b[0;34m\u001b[0m\u001b[0;34m\u001b[0m\u001b[0m\n\u001b[1;32m    322\u001b[0m             \u001b[0;32melse\u001b[0m\u001b[0;34m:\u001b[0m\u001b[0;34m\u001b[0m\u001b[0;34m\u001b[0m\u001b[0m\n",
            "\u001b[0;31mKeyboardInterrupt\u001b[0m: "
          ]
        },
        {
          "output_type": "stream",
          "name": "stderr",
          "text": [
            "20:54:17.301 | ERROR   | Flow run 'fuzzy-goose' - Crash detected! Execution was aborted by an interrupt signal.\n"
          ]
        }
      ]
    },
    {
      "cell_type": "code",
      "source": [],
      "metadata": {
        "id": "Etjlr2-2DaV9"
      },
      "execution_count": null,
      "outputs": []
    }
  ]
}